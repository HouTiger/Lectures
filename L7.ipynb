{
 "cells": [
  {
   "cell_type": "code",
   "execution_count": 1,
   "metadata": {},
   "outputs": [
    {
     "name": "stderr",
     "output_type": "stream",
     "text": [
      "Using TensorFlow backend.\n"
     ]
    }
   ],
   "source": [
    "import numpy as np\n",
    "import keras\n",
    "from matplotlib.pyplot import imshow\n",
    "import h5py\n",
    "import cv2\n",
    "from zipfile import ZipFile\n",
    "keras.backend.set_image_data_format('channels_last')\n",
    "from keras.layers import Input, Activation, Conv2D\n",
    "from keras.models import Model"
   ]
  },
  {
   "cell_type": "code",
   "execution_count": 2,
   "metadata": {},
   "outputs": [],
   "source": [
    "zipped_images = ZipFile('train_images.zip')"
   ]
  },
  {
   "cell_type": "code",
   "execution_count": null,
   "metadata": {},
   "outputs": [],
   "source": [
    "# 查看目录结构\n",
    "zipped_images.printdir()"
   ]
  },
  {
   "cell_type": "code",
   "execution_count": 3,
   "metadata": {},
   "outputs": [],
   "source": [
    "# 提取图片\n",
    "data = [] # 图片数据\n",
    "lens = [] # 三种图片的数量\n",
    "label = [] # 标签\n",
    "mid_name = ['off_edge', 'on_edge', 'on_corner']"
   ]
  },
  {
   "cell_type": "code",
   "execution_count": 4,
   "metadata": {},
   "outputs": [
    {
     "name": "stdout",
     "output_type": "stream",
     "text": [
      "<class 'bytes'>\n",
      "<class 'bytes'>\n",
      "<class 'bytes'>\n"
     ]
    }
   ],
   "source": [
    "for i in range(3):\n",
    "    txt_file_name = 'train_images/edge/' + mid_name[i] + '.txt' # 各个图片名在.txt文件里\n",
    "    txtstr = zipped_images.read(txt_file_name) # 读出byte流\n",
    "    print(type(txtstr))\n",
    "    txtlist = txtstr.split() # 利用换行符分割\n",
    "    # print(type(image_name)), type(image_name) = bytes\n",
    "    for image_name in txtlist:\n",
    "        # image_name是utf-8编码，str是unicode编码，要转换一下\n",
    "        bmpname = 'train_images/edge/' + mid_name[i] + '/4/' + str(image_name, encoding='utf-8') \n",
    "        # 读出byte流\n",
    "        bmp_byte_str = zipped_images.read(bmpname)\n",
    "        # 转换为numpy array\n",
    "        bmp_byte_array = np.frombuffer(bmp_byte_str, dtype=np.uint8)\n",
    "        # 转换为灰度图像的格式\n",
    "        image = cv2.imdecode(bmp_byte_array, cv2.IMREAD_GRAYSCALE)\n",
    "        data.append(image)\n",
    "    lens.append(len(txtlist))\n",
    "    label.extend([i] * lens[-1])"
   ]
  },
  {
   "cell_type": "code",
   "execution_count": 5,
   "metadata": {},
   "outputs": [
    {
     "name": "stdout",
     "output_type": "stream",
     "text": [
      "[[  0   0   0   0   0]\n",
      " [  0   0   0   0   0]\n",
      " [191 191 191 191 191]\n",
      " [191 191 191 191 191]\n",
      " [191 191 191 191 191]]\n"
     ]
    }
   ],
   "source": [
    "print(data[110000])"
   ]
  },
  {
   "cell_type": "code",
   "execution_count": 6,
   "metadata": {},
   "outputs": [
    {
     "name": "stdout",
     "output_type": "stream",
     "text": [
      "1\n"
     ]
    }
   ],
   "source": [
    "print(label[110000])"
   ]
  },
  {
   "cell_type": "code",
   "execution_count": 7,
   "metadata": {},
   "outputs": [
    {
     "name": "stdout",
     "output_type": "stream",
     "text": [
      "[100390, 110910, 47060]\n"
     ]
    }
   ],
   "source": [
    "print(lens)"
   ]
  },
  {
   "cell_type": "code",
   "execution_count": 8,
   "metadata": {},
   "outputs": [],
   "source": [
    "data = np.array(data)\n",
    "label = np.array(label)"
   ]
  },
  {
   "cell_type": "code",
   "execution_count": 9,
   "metadata": {},
   "outputs": [],
   "source": [
    "data = data.reshape((data.shape[0], -1))\n",
    "label = label.reshape((label.shape[0], -1))"
   ]
  },
  {
   "cell_type": "code",
   "execution_count": 10,
   "metadata": {},
   "outputs": [
    {
     "name": "stdout",
     "output_type": "stream",
     "text": [
      "(258360, 25) (258360, 1)\n"
     ]
    }
   ],
   "source": [
    "print(data.shape, label.shape)"
   ]
  },
  {
   "cell_type": "code",
   "execution_count": 12,
   "metadata": {},
   "outputs": [],
   "source": [
    "overall_data = np.hstack((data, label)) # 横向堆叠"
   ]
  },
  {
   "cell_type": "code",
   "execution_count": 13,
   "metadata": {},
   "outputs": [],
   "source": [
    "overall_data = overall_data[0:100390 + 110910] # 取出on edge 和 off edge部分"
   ]
  },
  {
   "cell_type": "code",
   "execution_count": 14,
   "metadata": {},
   "outputs": [
    {
     "name": "stdout",
     "output_type": "stream",
     "text": [
      "(211300, 26)\n"
     ]
    }
   ],
   "source": [
    "print(overall_data.shape)"
   ]
  },
  {
   "cell_type": "code",
   "execution_count": 15,
   "metadata": {},
   "outputs": [],
   "source": [
    "np.random.shuffle(overall_data)"
   ]
  },
  {
   "cell_type": "code",
   "execution_count": 16,
   "metadata": {},
   "outputs": [
    {
     "name": "stdout",
     "output_type": "stream",
     "text": [
      "147910\n"
     ]
    }
   ],
   "source": [
    "div_num = int(overall_data.shape[0] * 0.7)\n",
    "print(div_num)"
   ]
  },
  {
   "cell_type": "code",
   "execution_count": 17,
   "metadata": {},
   "outputs": [],
   "source": [
    "# 划分训练集和测试集\n",
    "X_train = overall_data[0:div_num, 0:25]\n",
    "Y_train = overall_data[0:div_num, 25]\n",
    "X_test = overall_data[div_num:, 0:25]\n",
    "Y_test = overall_data[div_num:, 25]\n",
    "\n"
   ]
  },
  {
   "cell_type": "code",
   "execution_count": 18,
   "metadata": {},
   "outputs": [
    {
     "name": "stdout",
     "output_type": "stream",
     "text": [
      "(147910, 5, 5, 1) (147910, 1, 1, 1) (63390, 5, 5, 1) (63390, 1, 1, 1)\n"
     ]
    }
   ],
   "source": [
    "# 归一化\n",
    "X_train = X_train / 255\n",
    "X_test = X_test / 255\n",
    "\n",
    "# 构造channel维度\n",
    "X_train = X_train.reshape(X_train.shape[0], 5, 5, 1)\n",
    "Y_train = Y_train.reshape(Y_train.shape[0], 1, 1, 1)\n",
    "X_test = X_test.reshape(X_test.shape[0], 5, 5, 1)\n",
    "Y_test = Y_test.reshape(Y_test.shape[0], 1, 1, 1)\n",
    "print(X_train.shape, Y_train.shape, X_test.shape, Y_test.shape)"
   ]
  },
  {
   "cell_type": "code",
   "execution_count": 19,
   "metadata": {},
   "outputs": [],
   "source": [
    "# 定义DNN网络结构\n",
    "# DNN的好处在于，对于不同大小的输入，无需改变网络结构\n",
    "\n",
    "def EdgeDetectModel(input_shape):\n",
    "\n",
    "    X_input = Input(input_shape) # (5, 5) / (240, 240)\n",
    "    \n",
    "    # Conv2D(filter_number, filter_size, strides, name) \n",
    "    X = Conv2D(8, (3, 3), strides = (1, 1), name = 'conv0')(X_input) # (3, 3, 8) / (238, 238, 8)\n",
    "\n",
    "    X = Activation('relu')(X)\n",
    "\n",
    "    X = Conv2D(1, (3, 3), strides = (1, 1), name = 'conv1')(X) # (1, 1, 1) / (236, 236, 1)\n",
    "\n",
    "    X = Activation('relu')(X)\n",
    "    \n",
    "    model = Model(inputs = X_input, outputs = X, name='EdgeDetectModel')\n",
    "\n",
    "    return model"
   ]
  },
  {
   "cell_type": "code",
   "execution_count": 20,
   "metadata": {},
   "outputs": [
    {
     "name": "stdout",
     "output_type": "stream",
     "text": [
      "WARNING:tensorflow:From /anaconda3/envs/tf2/lib/python3.7/site-packages/tensorflow/python/framework/op_def_library.py:263: colocate_with (from tensorflow.python.framework.ops) is deprecated and will be removed in a future version.\n",
      "Instructions for updating:\n",
      "Colocations handled automatically by placer.\n"
     ]
    }
   ],
   "source": [
    "# None表示图片尺寸不确定\n",
    "model = EdgeDetectModel((None, None, 1))"
   ]
  },
  {
   "cell_type": "code",
   "execution_count": null,
   "metadata": {},
   "outputs": [],
   "source": [
    "# 确定优化器，损失函数，\n",
    "model.compile(optimizer = 'Adam', loss = 'binary_crossentropy', metrics = ['accuracy'])\n",
    "# 开始训练\n",
    "model.fit(x = X_train, y = Y_train, epochs = 10, batch_size = 16)\n",
    "# 用test集，检测效果\n",
    "preds = model.evaluate(x = X_test, y = Y_test)\n",
    "print (\"Loss = \" + str(preds[0]))\n",
    "print (\"Test Accuracy = \" + str(preds[1]))"
   ]
  },
  {
   "cell_type": "code",
   "execution_count": 21,
   "metadata": {},
   "outputs": [],
   "source": [
    "def load_test_images():\n",
    "    data = []\n",
    "\n",
    "    pre_path = './synthetic_characters/'\n",
    "    for i in range(4):\n",
    "        for j in range(10):\n",
    "            image_path = pre_path + '0-0-0-' + str(i) + '-' + str(j) + '.bmp'\n",
    "            img = cv2.imread(image_path, cv2.IMREAD_GRAYSCALE)\n",
    "            data.append(img)\n",
    "\n",
    "    data = np.array(data)\n",
    "    data = np.expand_dims(data, axis=3)\n",
    "    return data\n",
    "test_images = load_test_images()"
   ]
  },
  {
   "cell_type": "code",
   "execution_count": 22,
   "metadata": {},
   "outputs": [
    {
     "name": "stdout",
     "output_type": "stream",
     "text": [
      "(40, 240, 240, 1)\n"
     ]
    }
   ],
   "source": [
    "print(test_images.shape)"
   ]
  },
  {
   "cell_type": "code",
   "execution_count": null,
   "metadata": {},
   "outputs": [],
   "source": [
    "import matplotlib.pyplot as plt\n",
    "for i in range(test_images.shape[0]):\n",
    "    test = test_images[i]\n",
    "    test = np.expand_dims(test, axis=0)\n",
    "    pred = model.predict(test)\n",
    "    # print(pred.shape)\n",
    "    pred = pred.reshape((236, 236))\n",
    "    pred = (pred > 0.5)\n",
    "    pred = pred * 255\n",
    "    # plt.imshow(pred, cmap='gray')\n",
    "    # plt.show()\n",
    "    plt.imsave('edge_detection_test/' + str(i) + '.png', pred, cmap='gray')\n"
   ]
  },
  {
   "cell_type": "code",
   "execution_count": null,
   "metadata": {},
   "outputs": [],
   "source": []
  }
 ],
 "metadata": {
  "kernelspec": {
   "display_name": "Python 3",
   "language": "python",
   "name": "python3"
  },
  "language_info": {
   "codemirror_mode": {
    "name": "ipython",
    "version": 3
   },
   "file_extension": ".py",
   "mimetype": "text/x-python",
   "name": "python",
   "nbconvert_exporter": "python",
   "pygments_lexer": "ipython3",
   "version": "3.7.3"
  }
 },
 "nbformat": 4,
 "nbformat_minor": 2
}
