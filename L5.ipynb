{
  "nbformat": 4,
  "nbformat_minor": 0,
  "metadata": {
    "colab": {
      "name": "L5.ipynb",
      "version": "0.3.2",
      "provenance": [],
      "collapsed_sections": [],
      "toc_visible": true
    },
    "kernelspec": {
      "name": "python3",
      "display_name": "Python 3"
    }
  },
  "cells": [
    {
      "metadata": {
        "id": "YhhrPjx7oVTZ",
        "colab_type": "text"
      },
      "cell_type": "markdown",
      "source": [
        "# Lesson5 - On Deep Neural Network Basics"
      ]
    },
    {
      "metadata": {
        "id": "7TbaaJheouh7",
        "colab_type": "text"
      },
      "cell_type": "markdown",
      "source": [
        "## 1 - Numpy Basics\n",
        "`numpy` is a handy python module for scientific computing and especially matrix computing.  \n",
        "Usually we rename module `numpy` as `np`"
      ]
    },
    {
      "metadata": {
        "id": "UIYzqmMNovE8",
        "colab_type": "code",
        "colab": {}
      },
      "cell_type": "code",
      "source": [
        "import numpy as np\n",
        "from IPython.display import Image"
      ],
      "execution_count": 0,
      "outputs": []
    },
    {
      "metadata": {
        "id": "Tj8KWQ_1tUC7",
        "colab_type": "text"
      },
      "cell_type": "markdown",
      "source": [
        "### 1.1 - Fuctions"
      ]
    },
    {
      "metadata": {
        "id": "F0MCSDm6pbaG",
        "colab_type": "text"
      },
      "cell_type": "markdown",
      "source": [
        "`np.array(list)` is often used to create numpy array from list."
      ]
    },
    {
      "metadata": {
        "id": "GVT5mzsUpHna",
        "colab_type": "code",
        "outputId": "f284dc8c-6ee1-43b6-fdd8-c1cf9f8ce2bd",
        "colab": {
          "base_uri": "https://localhost:8080/",
          "height": 34
        }
      },
      "cell_type": "code",
      "source": [
        "arr = np.array([1, 2, 3])\n",
        "print(arr)"
      ],
      "execution_count": 0,
      "outputs": [
        {
          "output_type": "stream",
          "text": [
            "[1 2 3]\n"
          ],
          "name": "stdout"
        }
      ]
    },
    {
      "metadata": {
        "id": "nHW8rNedp5P5",
        "colab_type": "text"
      },
      "cell_type": "markdown",
      "source": [
        "`np.zeros(arr_shape)` returns a matrix or vector in shape ordered by tuple `arr_shape`.  \n",
        "**Attention: arr_shape is a tuple**"
      ]
    },
    {
      "metadata": {
        "id": "zxHFdV49qTYH",
        "colab_type": "code",
        "outputId": "1a5365bc-96d8-4ac2-a456-2676a220e7be",
        "colab": {
          "base_uri": "https://localhost:8080/",
          "height": 51
        }
      },
      "cell_type": "code",
      "source": [
        "zero = np.zeros((2, 3))\n",
        "print(zero)"
      ],
      "execution_count": 0,
      "outputs": [
        {
          "output_type": "stream",
          "text": [
            "[[0. 0. 0.]\n",
            " [0. 0. 0.]]\n"
          ],
          "name": "stdout"
        }
      ]
    },
    {
      "metadata": {
        "id": "7gOd3U4ZqdMi",
        "colab_type": "text"
      },
      "cell_type": "markdown",
      "source": [
        "`np_matrix.shape` is the numpy matirx's shape in a tuple."
      ]
    },
    {
      "metadata": {
        "id": "0-IsS92gqu5Z",
        "colab_type": "code",
        "outputId": "0c331f1f-3a48-427a-9e64-b9a126a4b5c4",
        "colab": {
          "base_uri": "https://localhost:8080/",
          "height": 34
        }
      },
      "cell_type": "code",
      "source": [
        "print(zero.shape)\n"
      ],
      "execution_count": 0,
      "outputs": [
        {
          "output_type": "stream",
          "text": [
            "(2, 3)\n"
          ],
          "name": "stdout"
        }
      ]
    },
    {
      "metadata": {
        "id": "2d6PrbtWri0Z",
        "colab_type": "text"
      },
      "cell_type": "markdown",
      "source": [
        "Pay attention, when you create numpy matrix from a one dimension list, the shape is usually `(m, )`.  \n",
        "Usually we reshape the matirx to be `(m, 1)` in case causing annoying bugs.\n",
        "The fuction you'll need is `np_matrix.reshape(dim1, dim2,..., dimn)`"
      ]
    },
    {
      "metadata": {
        "id": "g5FkCLHksBJ0",
        "colab_type": "code",
        "outputId": "f8bc0e45-7b23-4f94-b1a1-4b43fcb3791e",
        "colab": {
          "base_uri": "https://localhost:8080/",
          "height": 51
        }
      },
      "cell_type": "code",
      "source": [
        "print(arr.shape)\n",
        "arr = arr.reshape(arr.shape[0], 1)\n",
        "print(arr.shape)"
      ],
      "execution_count": 0,
      "outputs": [
        {
          "output_type": "stream",
          "text": [
            "(3,)\n",
            "(3, 1)\n"
          ],
          "name": "stdout"
        }
      ]
    },
    {
      "metadata": {
        "id": "0l90g7J0rCmV",
        "colab_type": "text"
      },
      "cell_type": "markdown",
      "source": [
        "`np.random.rand(dim1, dim2, ..., dimn)` returns a random initialized matrix shaped as tuple `arr_shape` appointed."
      ]
    },
    {
      "metadata": {
        "id": "J0cKRYc5s2os",
        "colab_type": "code",
        "outputId": "6e756134-36ef-4625-cff8-4bfa7424dcaa",
        "colab": {
          "base_uri": "https://localhost:8080/",
          "height": 85
        }
      },
      "cell_type": "code",
      "source": [
        "mat_rand = np.random.rand(3, 5)\n",
        "print(mat_rand)\n",
        "print(mat_rand.shape)"
      ],
      "execution_count": 0,
      "outputs": [
        {
          "output_type": "stream",
          "text": [
            "[[0.6218384  0.8483291  0.9659741  0.394125   0.55928917]\n",
            " [0.8298255  0.10689565 0.06969434 0.92475696 0.69039575]\n",
            " [0.23920768 0.57912812 0.37767447 0.13750954 0.18615105]]\n",
            "(3, 5)\n"
          ],
          "name": "stdout"
        }
      ]
    },
    {
      "metadata": {
        "id": "9k7m2zrHuGDy",
        "colab_type": "text"
      },
      "cell_type": "markdown",
      "source": [
        "`np.sum(matrix, axis=p, keepdims=True/False)` means to add matrix in dimension p, and returns."
      ]
    },
    {
      "metadata": {
        "id": "M9lSfgoVuiqp",
        "colab_type": "code",
        "outputId": "5671c039-7c0c-46bc-e3fd-55ffdf168d3a",
        "colab": {
          "base_uri": "https://localhost:8080/",
          "height": 119
        }
      },
      "cell_type": "code",
      "source": [
        "rand_sum = np.sum(mat_rand, axis=1, keepdims=True)\n",
        "print(rand_sum)\n",
        "print(rand_sum.shape)\n",
        "rand_sum = np.sum(mat_rand, axis=1, keepdims=False)\n",
        "print(rand_sum)\n",
        "print(rand_sum.shape)"
      ],
      "execution_count": 0,
      "outputs": [
        {
          "output_type": "stream",
          "text": [
            "[[3.38955577]\n",
            " [2.62156821]\n",
            " [1.51967087]]\n",
            "(3, 1)\n",
            "[3.38955577 2.62156821 1.51967087]\n",
            "(3,)\n"
          ],
          "name": "stdout"
        }
      ]
    },
    {
      "metadata": {
        "id": "8S0cefTpPIuW",
        "colab_type": "text"
      },
      "cell_type": "markdown",
      "source": [
        "`np.dot(m1, m2)` does the matrix multiplication. Tell it apart from elemental multiplication."
      ]
    },
    {
      "metadata": {
        "id": "MtXwOdumPW0w",
        "colab_type": "code",
        "outputId": "b0a03bca-62ac-48db-f43d-8d3d2735df2a",
        "colab": {
          "base_uri": "https://localhost:8080/",
          "height": 221
        }
      },
      "cell_type": "code",
      "source": [
        "A = np.ones((3, 3))\n",
        "print(A)\n",
        "I = np.eye(3, 3)\n",
        "print(I)\n",
        "print(np.dot(A, I))\n",
        "print(A * I)"
      ],
      "execution_count": 0,
      "outputs": [
        {
          "output_type": "stream",
          "text": [
            "[[1. 1. 1.]\n",
            " [1. 1. 1.]\n",
            " [1. 1. 1.]]\n",
            "[[1. 0. 0.]\n",
            " [0. 1. 0.]\n",
            " [0. 0. 1.]]\n",
            "[[1. 1. 1.]\n",
            " [1. 1. 1.]\n",
            " [1. 1. 1.]]\n",
            "[[1. 0. 0.]\n",
            " [0. 1. 0.]\n",
            " [0. 0. 1.]]\n"
          ],
          "name": "stdout"
        }
      ]
    },
    {
      "metadata": {
        "id": "5i0uGANttYrM",
        "colab_type": "text"
      },
      "cell_type": "markdown",
      "source": [
        "### 1.2 - Broadcasting"
      ]
    },
    {
      "metadata": {
        "id": "vwumZWt-ta2k",
        "colab_type": "text"
      },
      "cell_type": "markdown",
      "source": [
        "In numpy matrix, there is a concept called **broadcasting**, which allows us to add, multiply and divide matrix with matrix, vector and scalar in different shape."
      ]
    },
    {
      "metadata": {
        "id": "RccPFE_lwPeW",
        "colab_type": "text"
      },
      "cell_type": "markdown",
      "source": [
        "* matrix op matrix"
      ]
    },
    {
      "metadata": {
        "id": "hp_DWSpwtaCX",
        "colab_type": "code",
        "outputId": "78afbb71-af0f-470e-8c41-2a6568f36da0",
        "colab": {
          "base_uri": "https://localhost:8080/",
          "height": 170
        }
      },
      "cell_type": "code",
      "source": [
        "a = np.random.rand(3, 3)\n",
        "print(a)\n",
        "b = np.ones((3, 1))\n",
        "print(b)\n",
        "print(a + b)"
      ],
      "execution_count": 0,
      "outputs": [
        {
          "output_type": "stream",
          "text": [
            "[[0.46296535 0.65672433 0.81418896]\n",
            " [0.44115923 0.44867158 0.3696967 ]\n",
            " [0.2891617  0.8517587  0.27063213]]\n",
            "[[1.]\n",
            " [1.]\n",
            " [1.]]\n",
            "[[1.46296535 1.65672433 1.81418896]\n",
            " [1.44115923 1.44867158 1.3696967 ]\n",
            " [1.2891617  1.8517587  1.27063213]]\n"
          ],
          "name": "stdout"
        }
      ]
    },
    {
      "metadata": {
        "id": "eKm10N3awvik",
        "colab_type": "text"
      },
      "cell_type": "markdown",
      "source": [
        "* matrix op scalar"
      ]
    },
    {
      "metadata": {
        "id": "pWcM_hQHwe7n",
        "colab_type": "code",
        "outputId": "b73cf686-8a18-4e11-e4c5-16cea0f6d518",
        "colab": {
          "base_uri": "https://localhost:8080/",
          "height": 68
        }
      },
      "cell_type": "code",
      "source": [
        "print(a + 1)"
      ],
      "execution_count": 0,
      "outputs": [
        {
          "output_type": "stream",
          "text": [
            "[[1.46296535 1.65672433 1.81418896]\n",
            " [1.44115923 1.44867158 1.3696967 ]\n",
            " [1.2891617  1.8517587  1.27063213]]\n"
          ],
          "name": "stdout"
        }
      ]
    },
    {
      "metadata": {
        "id": "4Pnf3CJ-w5PN",
        "colab_type": "text"
      },
      "cell_type": "markdown",
      "source": [
        "* matrix op vector"
      ]
    },
    {
      "metadata": {
        "id": "yqxtLFK8wmrm",
        "colab_type": "code",
        "outputId": "0bb76823-bf53-457f-a33e-f64fbb7f90cf",
        "colab": {
          "base_uri": "https://localhost:8080/",
          "height": 68
        }
      },
      "cell_type": "code",
      "source": [
        "b = np.ones((3, ))\n",
        "print(a + b)"
      ],
      "execution_count": 0,
      "outputs": [
        {
          "output_type": "stream",
          "text": [
            "[[1.46296535 1.65672433 1.81418896]\n",
            " [1.44115923 1.44867158 1.3696967 ]\n",
            " [1.2891617  1.8517587  1.27063213]]\n"
          ],
          "name": "stdout"
        }
      ]
    },
    {
      "metadata": {
        "id": "aEGQRj5qBwRH",
        "colab_type": "text"
      },
      "cell_type": "markdown",
      "source": [
        "## 2 - Logistic Regression  \n",
        "There is a `binary classification` problem to recognize cat. "
      ]
    },
    {
      "metadata": {
        "id": "7Z4FEgRxUg4A",
        "colab_type": "text"
      },
      "cell_type": "markdown",
      "source": [
        "### 2.1 - Data Normalization  \n",
        "Usually we map the pixel value of image to `(-1, 1)` or `(0, 1)`before training the model.  \n",
        "It makes gradient descent to converge faster.  \n",
        "![Normalization](https://drive.google.com/uc?id=1t4M1azqisIrk4xTQEgvy1Tz3M-0szRJd)"
      ]
    },
    {
      "metadata": {
        "id": "6Z1-y12OYlTR",
        "colab_type": "text"
      },
      "cell_type": "markdown",
      "source": [
        "### 2.2 - Defining Structure  \n",
        "![LogReg_kiank.png](https://drive.google.com/uc?id=1jO7mU5iz2-XAF9F_zwoAanNG9o5-Qxx3)\n"
      ]
    },
    {
      "metadata": {
        "id": "kbekKjmoW9BT",
        "colab_type": "text"
      },
      "cell_type": "markdown",
      "source": [
        "### 2.3 - Parameters Initialization . \n",
        "Usually we initialize parameters $W$ randomly, and let $b$ to be zero.  \n",
        "Question: Why don't initialize all parameters to be zero?\n"
      ]
    },
    {
      "metadata": {
        "id": "K7LV0cnNI0xs",
        "colab_type": "text"
      },
      "cell_type": "markdown",
      "source": [
        "### 2.4 - Forward Propagation\n",
        "The original image is an 64 * 64 RGB, which means the shape is `(64, 64, 3)`.     \n",
        "$x^{(i)}$ is the $i$th image  shaped as a colomn vector.    \n",
        "So $x^{(i)}.shape = $   `(12288, 1)`    \n",
        "The output is the probability of image being a cat.  \n",
        "We suppose the probability could be calculated by a linear funtion:  \n",
        "$$z^{(i)} = w_0x^{(i)}_0 + w_1x^{(i)}_1 + ... + w_{12287}x^{(i)}_{12287} + b$$    \n",
        "But $y^{(i)}$ maybe too large, so we use fuction `sigmoid` to map $y^{(i)}$ to `(0, 1)`    \n",
        "\n"
      ]
    },
    {
      "metadata": {
        "id": "3MWGLPmfTXs2",
        "colab_type": "text"
      },
      "cell_type": "markdown",
      "source": [
        "![sigmoid](https://drive.google.com/uc?id=1BIBcyF9SFut2o3Z9nur27UnSaDgMBoXP)"
      ]
    },
    {
      "metadata": {
        "id": "E7GPzL319BjE",
        "colab_type": "text"
      },
      "cell_type": "markdown",
      "source": [
        "So the predicted probability of image being cat is:\n",
        "$$\\hat y^{(i)} = a^{(i)} = sigmoid(z^{(i)}) = \\frac{1}{1 + e^{-z}}$$  \n",
        "We usually call the output of a neuron **activation**, the reason would be discussed later."
      ]
    },
    {
      "metadata": {
        "id": "hgsRzpAjF8Aw",
        "colab_type": "text"
      },
      "cell_type": "markdown",
      "source": [
        "#### 2.4.1 Vectorization\n",
        "How do we deal with multiple images at the same time?  \n",
        "It's called vectorization, mainly depends on matrix operations.  \n",
        "We use $X = (x^{(1)}, x^{(2)}, ..., x^{(m)})$ as input,  \n",
        "$W = (w_0, w_1, ..., w_m)^T$  \n",
        "then $Z = (z^{(1)}, z^{(2)}, ..., z^{(m)}) = W^TX + b$  \n",
        "the output $A = (a^{(1)}, a^{(2)}, ..., a^{(m)})= sigmoid(Z)$  \n",
        "\n"
      ]
    },
    {
      "metadata": {
        "id": "-F8Mm4i3zrNc",
        "colab_type": "text"
      },
      "cell_type": "markdown",
      "source": [
        "### 2.5 - Backward Propagation"
      ]
    },
    {
      "metadata": {
        "id": "Fi5_7VE2JMA-",
        "colab_type": "text"
      },
      "cell_type": "markdown",
      "source": [
        "Now we have the predictions about m images.  \n",
        "But the result could be horrible.  \n",
        "Let's define the loss/difference between **predicted result** and **true result**.   \n",
        "\n",
        "$$\\mathcal{L}(a^{(i)}, y^{(i)}) =  - y^{(i)}  \\log(a^{(i)}) - (1-y^{(i)} )  \\log(1-a^{(i)})$$  \n",
        "The loss fuction can be defined freely, as long as it makes sense.  \n",
        "The average loss should be:  \n",
        "$$J = -\\frac{1}{m}\\sum_{i=1}^{m}y^{(i)}\\log(a^{(i)})+(1-y^{(i)})\\log(1-a^{(i)})$$"
      ]
    },
    {
      "metadata": {
        "id": "uO-PD_ToLj05",
        "colab_type": "text"
      },
      "cell_type": "markdown",
      "source": [
        "#### 2.5.1 - Gradient Descent\n",
        "Now we have $J(w_0, w_1, ..., w_m, b, x_0, x_1, ...,x_m)$,  \n",
        "the target is to minimize $J$ by changing $w_0, w_1, ..., w_m, b$  \n",
        "Basically, there are two options:\n",
        "* Let each partial derivative to be zero, then solve the equations, get the value of $w_0, w_1, ..., w_m, b$  \n",
        "* Using gradient descent . \n",
        "$$w_0 = w_0 - \\alpha \\frac{\\partial J}{\\partial w_0} $$\n",
        "$$w_1 = w_1 - \\alpha \\frac{\\partial J}{\\partial w_1} $$  \n",
        "$$...$$\n",
        "$$w_m = w_m - \\alpha \\frac{\\partial J}{\\partial w_m} $$  \n",
        "$$ b = b - \\alpha \\frac{\\partial J}{\\partial b} $$\n",
        "  $\\alpha$ is a scalar, usually in $(0, 1)$  called **Learning Rate**.  \n",
        "  It can be proved that for $f = (x_0, x_1, ..., x_n)$ the fastest increasing direction is $(\\frac{\\partial f}{\\partial x_0}, \\frac{\\partial f}{\\partial x_1}, ..., \\frac{\\partial f}{\\partial x_n})$"
      ]
    },
    {
      "metadata": {
        "id": "DGEfFzaPQJra",
        "colab_type": "text"
      },
      "cell_type": "markdown",
      "source": [
        "After gradient descent, wo complete forward / backward propagation once, it's call 1 **iteration**.  \n",
        "Then we repeat the iteration untill the loss is acceptable, then the neural network training is finished.  \n",
        "By now the model should have a high accuracy for prediction.\n",
        "\n"
      ]
    },
    {
      "metadata": {
        "id": "EbAkTeZxa3tT",
        "colab_type": "text"
      },
      "cell_type": "markdown",
      "source": [
        "#### 2.5.2 - Choose Your Learning Rate Carefully\n",
        "The learning rate should neither be too small nor too big.  \n",
        "If it's too big, you may never converge to minima in gradient descent.    \n",
        "If it's too small, the process to converge to minima would be extremely long.    \n",
        "![](https://drive.google.com/uc?id=1azoR9lY_R2Q-H1V-iKIPq0x1k2d9gW_s)"
      ]
    },
    {
      "metadata": {
        "id": "wA37hNMwRlpX",
        "colab_type": "text"
      },
      "cell_type": "markdown",
      "source": [
        "## 3 - Build Your Own Logistic Regression Model\n",
        "- [h5py](http://www.h5py.org) is a common package to interact with a dataset that is stored on an H5 file.\n",
        "- [matplotlib](http://matplotlib.org) is a famous library to plot graphs in Python.  \n",
        "\n",
        "The process are as follows:  \n",
        "1. Data Normalization\n",
        "2. Defining Model Structure\n",
        "3. Initializing Parameters\n",
        "4. Loop:\n",
        "  - Forward Propagation: Calculate Current Loss\n",
        "  - Backward Propagation: Calculate Current Gradient\n",
        "  - Update parameters: Gradient Descent"
      ]
    },
    {
      "metadata": {
        "id": "cU7a_mB3aGVz",
        "colab_type": "text"
      },
      "cell_type": "markdown",
      "source": [
        "### 3.1 - Data Washing"
      ]
    },
    {
      "metadata": {
        "id": "e6VMp117zulq",
        "colab_type": "code",
        "colab": {}
      },
      "cell_type": "code",
      "source": [
        "import h5py\n",
        "import matplotlib.pyplot as plt"
      ],
      "execution_count": 0,
      "outputs": []
    },
    {
      "metadata": {
        "id": "0r6Z73O-R_a0",
        "colab_type": "code",
        "colab": {}
      },
      "cell_type": "code",
      "source": [
        "def load_dataset():\n",
        "    train_dataset = h5py.File('./train_catvnoncat.h5', \"r\")\n",
        "    train_set_x_orig = np.array(train_dataset[\"train_set_x\"][:]) # your train set features\n",
        "    train_set_y_orig = np.array(train_dataset[\"train_set_y\"][:]) # your train set labels\n",
        "\n",
        "    test_dataset = h5py.File('./test_catvnoncat.h5', \"r\")\n",
        "    test_set_x_orig = np.array(test_dataset[\"test_set_x\"][:]) # your test set features\n",
        "    test_set_y_orig = np.array(test_dataset[\"test_set_y\"][:]) # your test set labels\n",
        "\n",
        "    classes = np.array(test_dataset[\"list_classes\"][:]) # the list of classes\n",
        "    \n",
        "    train_set_y_orig = train_set_y_orig.reshape((1, train_set_y_orig.shape[0]))\n",
        "    test_set_y_orig = test_set_y_orig.reshape((1, test_set_y_orig.shape[0]))\n",
        "    \n",
        "    return train_set_x_orig, train_set_y_orig, test_set_x_orig, test_set_y_orig, classes"
      ],
      "execution_count": 0,
      "outputs": []
    },
    {
      "metadata": {
        "id": "W9TFQ8u6SCj9",
        "colab_type": "code",
        "colab": {}
      },
      "cell_type": "code",
      "source": [
        "train_set_x_orig, train_set_y, test_set_x_orig, test_set_y, classes = load_dataset()"
      ],
      "execution_count": 0,
      "outputs": []
    },
    {
      "metadata": {
        "id": "5ugmXEW4SJ6V",
        "colab_type": "code",
        "outputId": "72619b62-385b-495f-abb6-3aa9375113bf",
        "colab": {
          "base_uri": "https://localhost:8080/",
          "height": 286
        }
      },
      "cell_type": "code",
      "source": [
        "# Example of a picture\n",
        "index = 200 # Change the index to see different picture\n",
        "plt.imshow(train_set_x_orig[index])\n",
        "print (\"y = \" + str(train_set_y[:, index]) + \", it's a '\" + classes[np.squeeze(train_set_y[:, index])].decode(\"utf-8\") +  \"' picture.\")"
      ],
      "execution_count": 0,
      "outputs": [
        {
          "output_type": "stream",
          "text": [
            "y = [1], it's a 'cat' picture.\n"
          ],
          "name": "stdout"
        },
        {
          "output_type": "display_data",
          "data": {
            "image/png": "[encoded data removed]",
            "text/plain": [
              "<Figure size 432x288 with 1 Axes>"
            ]
          },
          "metadata": {
            "tags": []
          }
        }
      ]
    },
    {
      "metadata": {
        "id": "VeaXejrGVcqH",
        "colab_type": "code",
        "outputId": "693a11a3-ff72-41d4-a12c-12253ddbc148",
        "colab": {
          "base_uri": "https://localhost:8080/",
          "height": 153
        }
      },
      "cell_type": "code",
      "source": [
        "m_train = train_set_x_orig.shape[0]\n",
        "m_test = test_set_x_orig.shape[0]\n",
        "num_px = train_set_x_orig.shape[1] \n",
        "\n",
        "\n",
        "print (\"Number of training examples: m_train = \" + str(m_train))\n",
        "print (\"Number of testing examples: m_test = \" + str(m_test))\n",
        "print (\"Height/Width of each image: num_px = \" + str(num_px))\n",
        "print (\"Each image is of size: (\" + str(num_px) + \", \" + str(num_px) + \", 3)\")\n",
        "print (\"train_set_x shape: \" + str(train_set_x_orig.shape))\n",
        "print (\"train_set_y shape: \" + str(train_set_y.shape))\n",
        "print (\"test_set_x shape: \" + str(test_set_x_orig.shape))\n",
        "print (\"test_set_y shape: \" + str(test_set_y.shape))"
      ],
      "execution_count": 0,
      "outputs": [
        {
          "output_type": "stream",
          "text": [
            "Number of training examples: m_train = 209\n",
            "Number of testing examples: m_test = 50\n",
            "Height/Width of each image: num_px = 64\n",
            "Each image is of size: (64, 64, 3)\n",
            "train_set_x shape: (209, 64, 64, 3)\n",
            "train_set_y shape: (1, 209)\n",
            "test_set_x shape: (50, 64, 64, 3)\n",
            "test_set_y shape: (1, 50)\n"
          ],
          "name": "stdout"
        }
      ]
    },
    {
      "metadata": {
        "id": "OwC8Q20gaAJP",
        "colab_type": "code",
        "outputId": "c08e35a5-c5bb-4523-8fa3-05437e7e3cfa",
        "colab": {
          "base_uri": "https://localhost:8080/",
          "height": 102
        }
      },
      "cell_type": "code",
      "source": [
        "# Reshape the training and test examples\n",
        "train_set_x_flatten = train_set_x_orig.reshape(train_set_x_orig.shape[0], -1).T\n",
        "test_set_x_flatten = test_set_x_orig.reshape(test_set_x_orig.shape[0], -1).T\n",
        "\n",
        "\n",
        "print (\"train_set_x_flatten shape: \" + str(train_set_x_flatten.shape))\n",
        "print (\"train_set_y shape: \" + str(train_set_y.shape))\n",
        "print (\"test_set_x_flatten shape: \" + str(test_set_x_flatten.shape))\n",
        "print (\"test_set_y shape: \" + str(test_set_y.shape))\n",
        "print (\"sanity check after reshaping: \" + str(train_set_x_flatten[0:5,0]))"
      ],
      "execution_count": 0,
      "outputs": [
        {
          "output_type": "stream",
          "text": [
            "train_set_x_flatten shape: (12288, 209)\n",
            "train_set_y shape: (1, 209)\n",
            "test_set_x_flatten shape: (12288, 50)\n",
            "test_set_y shape: (1, 50)\n",
            "sanity check after reshaping: [17 31 56 22 33]\n"
          ],
          "name": "stdout"
        }
      ]
    },
    {
      "metadata": {
        "id": "TKeLoyJoZz6F",
        "colab_type": "text"
      },
      "cell_type": "markdown",
      "source": [
        "### 3.2 - Data Normalization"
      ]
    },
    {
      "metadata": {
        "id": "mtWjNtWmUrRE",
        "colab_type": "code",
        "colab": {}
      },
      "cell_type": "code",
      "source": [
        "train_set_x = train_set_x_flatten / 255.\n",
        "test_set_x = test_set_x_flatten / 255."
      ],
      "execution_count": 0,
      "outputs": []
    },
    {
      "metadata": {
        "id": "brYHPaUEbXGn",
        "colab_type": "text"
      },
      "cell_type": "markdown",
      "source": [
        "### 3.3 - Sigmoid Fuction . \n",
        "**Exercise**: Implement `sigmoid()`. As you've seen in the figure above, you need to compute $sigmoid( w^T x + b) = \\frac{1}{1 + e^{-(w^T x + b)}}$ to make predictions. Use `np.exp()`."
      ]
    },
    {
      "metadata": {
        "id": "MvEhCJd0Z4p6",
        "colab_type": "code",
        "colab": {}
      },
      "cell_type": "code",
      "source": [
        "def sigmoid(z):\n",
        "    \"\"\"\n",
        "    Compute the sigmoid of z\n",
        "\n",
        "    Arguments:\n",
        "    z -- A scalar or numpy array of any size.\n",
        "\n",
        "    Return:\n",
        "    s -- sigmoid(z)\n",
        "    \"\"\"\n",
        "\n",
        "    ### START CODE HERE ### (≈ 1 line of code)\n",
        "    s = 1/(1+np.exp(-z))\n",
        "    ### END CODE HERE ###\n",
        "    \n",
        "    return s"
      ],
      "execution_count": 0,
      "outputs": []
    },
    {
      "metadata": {
        "id": "iBG9ux15b5hp",
        "colab_type": "code",
        "outputId": "ef544209-86c1-483b-d578-291200d482b5",
        "colab": {
          "base_uri": "https://localhost:8080/",
          "height": 34
        }
      },
      "cell_type": "code",
      "source": [
        "print (\"sigmoid([0, 2]) = \" + str(sigmoid(np.array([0,2]))))"
      ],
      "execution_count": 0,
      "outputs": [
        {
          "output_type": "stream",
          "text": [
            "sigmoid([0, 2]) = [0.5        0.88079708]\n"
          ],
          "name": "stdout"
        }
      ]
    },
    {
      "metadata": {
        "id": "VO1BhDeZcG2C",
        "colab_type": "text"
      },
      "cell_type": "markdown",
      "source": [
        "**Expected Output**: `[ 0.5      0.88079708]`"
      ]
    },
    {
      "metadata": {
        "id": "fy8PRjZbcgfP",
        "colab_type": "text"
      },
      "cell_type": "markdown",
      "source": [
        "### 3.4 - Initializing Parameters\n",
        "**Exercise:** Implement parameter initialization in the cell below. You have to initialize $w$ as a vector of zeros. If you don't know what numpy function to use, look up `np.zeros()` in the Numpy library's documentation."
      ]
    },
    {
      "metadata": {
        "id": "2_NjqOywcEGV",
        "colab_type": "code",
        "colab": {}
      },
      "cell_type": "code",
      "source": [
        "def initialize_with_zeros(dim):\n",
        "    \"\"\"\n",
        "    This function creates a vector of zeros of shape (dim, 1) for w and initializes b to 0.\n",
        "    \n",
        "    Argument:\n",
        "    dim -- size of the w vector we want (or number of parameters in this case)\n",
        "    \n",
        "    Returns:\n",
        "    w -- initialized vector of shape (dim, 1)\n",
        "    b -- initialized scalar (corresponds to the bias)\n",
        "    \"\"\"\n",
        "    \n",
        "    ### START CODE HERE ### (≈ 2 line of code)\n",
        "    w = np.zeros((dim,1))\n",
        "    b = 0\n",
        "    ### END CODE HERE ###\n",
        "\n",
        "    assert(w.shape == (dim, 1))\n",
        "    assert(isinstance(b, float) or isinstance(b, int))\n",
        "    \n",
        "    return w, b"
      ],
      "execution_count": 0,
      "outputs": []
    },
    {
      "metadata": {
        "id": "ZdCK1yhZcyN5",
        "colab_type": "code",
        "outputId": "2dbd7ca8-b887-4f70-f7c9-72d56d77227c",
        "colab": {
          "base_uri": "https://localhost:8080/",
          "height": 68
        }
      },
      "cell_type": "code",
      "source": [
        "dim = 2\n",
        "w, b = initialize_with_zeros(dim)\n",
        "print (\"w = \" + str(w))\n",
        "print (\"b = \" + str(b))"
      ],
      "execution_count": 0,
      "outputs": [
        {
          "output_type": "stream",
          "text": [
            "w = [[0.]\n",
            " [0.]]\n",
            "b = 0\n"
          ],
          "name": "stdout"
        }
      ]
    },
    {
      "metadata": {
        "id": "HFzO6n_5c1qg",
        "colab_type": "text"
      },
      "cell_type": "markdown",
      "source": [
        "**Expected Output**:  \n",
        "`w = [[0.]\n",
        " [0.]]`  \n",
        " \n",
        "`b = 0`"
      ]
    },
    {
      "metadata": {
        "id": "rBogHhb9dNu4",
        "colab_type": "text"
      },
      "cell_type": "markdown",
      "source": [
        "### 3.5 - Forward Propagate . \n",
        "**Exercise:** Implement a function `propagate()` that computes the cost function and its gradient.\n",
        "\n",
        "**Hints**:\n",
        "\n",
        "Forward Propagation:\n",
        "- You get X\n",
        "- You compute $A = \\sigma(w^T X + b) = (a^{(1)}, a^{(2)}, ..., a^{(m-1)}, a^{(m)})$\n",
        "- You calculate the cost function: $J = -\\frac{1}{m}\\sum_{i=1}^{m}y^{(i)}\\log(a^{(i)})+(1-y^{(i)})\\log(1-a^{(i)})$ \n",
        "\n",
        "Here are the two formulas you will be using: \n",
        "\n",
        "$$ \\frac{\\partial J}{\\partial w} = \\frac{1}{m}X(A-Y)^T$$\n",
        "$$ \\frac{\\partial J}{\\partial b} = \\frac{1}{m} \\sum_{i=1}^m (a^{(i)}-y^{(i)})$$  \n",
        "\n",
        "Try `np.log()` if you need."
      ]
    },
    {
      "metadata": {
        "id": "SIP3BINWcz1L",
        "colab_type": "code",
        "colab": {}
      },
      "cell_type": "code",
      "source": [
        "def propagate(w, b, X, Y):\n",
        "    \"\"\"\n",
        "    Implement the cost function and its gradient for the propagation explained above\n",
        "\n",
        "    Arguments:\n",
        "    w -- weights, a numpy array of size (num_px * num_px * 3, 1)\n",
        "    b -- bias, a scalar\n",
        "    X -- data of size (num_px * num_px * 3, number of examples)\n",
        "    Y -- true \"label\" vector (containing 0 if non-cat, 1 if cat) of size (1, number of examples)\n",
        "\n",
        "    Return:\n",
        "    cost -- negative log-likelihood cost for logistic regression\n",
        "    dw -- gradient of the loss with respect to w, thus same shape as w\n",
        "    db -- gradient of the loss with respect to b, thus same shape as b\n",
        "    \n",
        "    Tips:\n",
        "    - Write your code step by step for the propagation. np.log(), np.dot()\n",
        "    \"\"\"\n",
        "    \n",
        "    m = X.shape[1]\n",
        "    \n",
        "    # FORWARD PROPAGATION (FROM X TO COST)\n",
        "    ### START CODE HERE ### (≈ 2 lines of code)\n",
        "    A = sigmoid(np.dot(w.T,X)+b)                                # compute activation\n",
        "    cost = -(np.dot(np.log(1-A),(1-Y).T)+np.dot(np.log(A),Y.T))/m                            # compute cost\n",
        "    ### END CODE HERE ###\n",
        "    \n",
        "    # BACKWARD PROPAGATION (TO FIND GRAD)\n",
        "    ### START CODE HERE ### (≈ 2 lines of code)\n",
        "    dw = np.dot(X,(A-Y).T)/m\n",
        "    db = np.sum(A-Y)/m\n",
        "    ### END CODE HERE ###\n",
        "\n",
        "    #assert(dw.shape == w.shape)\n",
        "   # assert(db.dtype == float)\n",
        "    cost = np.squeeze(cost)\n",
        "   # assert(cost.shape == ())\n",
        "    \n",
        "    grads = {\"dw\": dw,\n",
        "             \"db\": db}\n",
        "    \n",
        "    return grads, cost"
      ],
      "execution_count": 0,
      "outputs": []
    },
    {
      "metadata": {
        "id": "KMdWA4gsdpbF",
        "colab_type": "code",
        "outputId": "d5755b92-63ad-4297-a8e6-c28e046655b7",
        "colab": {
          "base_uri": "https://localhost:8080/",
          "height": 85
        }
      },
      "cell_type": "code",
      "source": [
        "w, b, X, Y = np.array([[1.],[2.]]), 2., np.array([[1.,2.,-1.],[3.,4.,-3.2]]), np.array([[1,0,1]])\n",
        "grads, cost = propagate(w, b, X, Y)\n",
        "print (\"dw = \" + str(grads[\"dw\"]))\n",
        "print (\"db = \" + str(grads[\"db\"]))\n",
        "print (\"cost = \" + str(cost))"
      ],
      "execution_count": 0,
      "outputs": [
        {
          "output_type": "stream",
          "text": [
            "dw = [[0.99845601]\n",
            " [2.39507239]]\n",
            "db = 0.001455578136784208\n",
            "cost = 5.801545319394553\n"
          ],
          "name": "stdout"
        }
      ]
    },
    {
      "metadata": {
        "id": "ZQyKxrddeC1x",
        "colab_type": "text"
      },
      "cell_type": "markdown",
      "source": [
        "**Expected Output**:    \n",
        "`dw = [[ 0.99845601]\n",
        " [ 2.39507239]]`  \n",
        "`db = 0.00145557813678`  \n",
        "`cost = 5.801545319394553`"
      ]
    },
    {
      "metadata": {
        "id": "AkEJihI-fFTZ",
        "colab_type": "text"
      },
      "cell_type": "markdown",
      "source": [
        "### 3.6 - Optimization\n",
        "- You have initialized your parameters.\n",
        "- You are also able to compute a cost function and its gradient.\n",
        "- Now, you want to update the parameters using gradient descent.\n",
        "\n",
        "**Exercise:** Write down the optimization function. The goal is to learn $w$ and $b$ by minimizing the cost function $J$. For a parameter $\\theta$, the update rule is $ \\theta = \\theta - \\alpha \\text{ } d\\theta$, where $\\alpha$ is the learning rate."
      ]
    },
    {
      "metadata": {
        "id": "pcCmSzaIfHYq",
        "colab_type": "code",
        "colab": {}
      },
      "cell_type": "code",
      "source": [
        "def optimize(w, b, X, Y, num_iterations, learning_rate, print_cost = False):\n",
        "    \"\"\"\n",
        "    This function optimizes w and b by running a gradient descent algorithm\n",
        "    \n",
        "    Arguments:\n",
        "    w -- weights, a numpy array of size (num_px * num_px * 3, 1)\n",
        "    b -- bias, a scalar\n",
        "    X -- data of shape (num_px * num_px * 3, number of examples)\n",
        "    Y -- true \"label\" vector (containing 0 if non-cat, 1 if cat), of shape (1, number of examples)\n",
        "    num_iterations -- number of iterations of the optimization loop\n",
        "    learning_rate -- learning rate of the gradient descent update rule\n",
        "    print_cost -- True to print the loss every 100 steps\n",
        "    \n",
        "    Returns:\n",
        "    params -- dictionary containing the weights w and bias b\n",
        "    grads -- dictionary containing the gradients of the weights and bias with respect to the cost function\n",
        "    costs -- list of all the costs computed during the optimization, this will be used to plot the learning curve.\n",
        "    \n",
        "    Tips:\n",
        "    You basically need to write down two steps and iterate through them:\n",
        "        1) Calculate the cost and the gradient for the current parameters. Use propagate().\n",
        "        2) Update the parameters using gradient descent rule for w and b.\n",
        "    \"\"\"\n",
        "    \n",
        "    costs = []\n",
        "    \n",
        "    for i in range(num_iterations):\n",
        "        \n",
        "        \n",
        "        # Cost and gradient calculation (≈ 1-4 lines of code)\n",
        "        ### START CODE HERE ### \n",
        "        \n",
        "        grads, cost = propagate(w, b, X, Y)\n",
        "        \n",
        "        ### END CODE HERE ###\n",
        "        \n",
        "        # Retrieve derivatives from grads\n",
        "        dw = grads[\"dw\"]\n",
        "        db = grads[\"db\"]\n",
        "        \n",
        "        # update rule (≈ 2 lines of code)\n",
        "        ### START CODE HERE ###\n",
        "        w = w - learning_rate * dw\n",
        "        b = b - learning_rate * db\n",
        "        ### END CODE HERE ###\n",
        "        \n",
        "        # Record the costs\n",
        "        if i % 100 == 0:\n",
        "            costs.append(cost)\n",
        "        \n",
        "        # Print the cost every 100 training iterations\n",
        "        if print_cost and i % 100 == 0:\n",
        "            print (\"Cost after iteration %i: %f\" %(i, cost))\n",
        "    \n",
        "    params = {\"w\": w,\n",
        "              \"b\": b}\n",
        "    \n",
        "    grads = {\"dw\": dw,\n",
        "             \"db\": db}\n",
        "    \n",
        "    return params, grads, costs"
      ],
      "execution_count": 0,
      "outputs": []
    },
    {
      "metadata": {
        "id": "LLdRVNglfhHL",
        "colab_type": "code",
        "outputId": "a86eac33-d747-40c3-913a-27733e4ba136",
        "colab": {
          "base_uri": "https://localhost:8080/",
          "height": 119
        }
      },
      "cell_type": "code",
      "source": [
        "params, grads, costs = optimize(w, b, X, Y, num_iterations= 100, learning_rate = 0.009, print_cost = False)\n",
        "\n",
        "print (\"w = \" + str(params[\"w\"]))\n",
        "print (\"b = \" + str(params[\"b\"]))\n",
        "print (\"dw = \" + str(grads[\"dw\"]))\n",
        "print (\"db = \" + str(grads[\"db\"]))"
      ],
      "execution_count": 0,
      "outputs": [
        {
          "output_type": "stream",
          "text": [
            "w = [[0.19033591]\n",
            " [0.12259159]]\n",
            "b = 1.9253598300845747\n",
            "dw = [[0.67752042]\n",
            " [1.41625495]]\n",
            "db = 0.21919450454067657\n"
          ],
          "name": "stdout"
        }
      ]
    },
    {
      "metadata": {
        "id": "aEKl53j2fi1K",
        "colab_type": "text"
      },
      "cell_type": "markdown",
      "source": [
        "**Expected Output**:    \n",
        "`w = [[ 0.19033591]\n",
        " [ 0.12259159]]`  \n",
        "`b = 1.92535983008`  \n",
        "`dw = [[ 0.67752042]\n",
        " [ 1.41625495]]`  \n",
        "`db = 0.219194504541` . "
      ]
    },
    {
      "metadata": {
        "id": "yc0f4Bc_f80L",
        "colab_type": "text"
      },
      "cell_type": "markdown",
      "source": [
        "**Exercise:** The previous function will output the learned w and b. We are able to use w and b to predict the labels for a dataset X. Implement the `predict()` function. There are two steps to computing predictions:\n",
        "\n",
        "1. Calculate $\\hat{Y} = A = \\sigma(w^T X + b)$\n",
        "\n",
        "2. Convert the entries of a into 0 (if activation <= 0.5) or 1 (if activation > 0.5), stores the predictions in a vector `Y_prediction`. If you wish, you can use an `if`/`else` statement in a `for` loop (though there is also a way to vectorize this). "
      ]
    },
    {
      "metadata": {
        "id": "U_TpYwHFftmA",
        "colab_type": "code",
        "colab": {}
      },
      "cell_type": "code",
      "source": [
        "def predict(w, b, X):\n",
        "    '''\n",
        "    Predict whether the label is 0 or 1 using learned logistic regression parameters (w, b)\n",
        "    \n",
        "    Arguments:\n",
        "    w -- weights, a numpy array of size (num_px * num_px * 3, 1)\n",
        "    b -- bias, a scalar\n",
        "    X -- data of size (num_px * num_px * 3, number of examples)\n",
        "    \n",
        "    Returns:\n",
        "    Y_prediction -- a numpy array (vector) containing all predictions (0/1) for the examples in X\n",
        "    '''\n",
        "    \n",
        "    m = X.shape[1]\n",
        "    Y_prediction = np.zeros((1,m))\n",
        "    w = w.reshape(X.shape[0], 1)\n",
        "    \n",
        "    # Compute vector \"A\" predicting the probabilities of a cat being present in the picture\n",
        "    ### START CODE HERE ### (≈ 1 line of code)\n",
        "    A = sigmoid(np.dot(w.T, X) + b)\n",
        "    ### END CODE HERE ###\n",
        "\n",
        "    for i in range(A.shape[1]):\n",
        "        \n",
        "        # Convert probabilities A[0,i] to actual predictions p[0,i]\n",
        "        ### START CODE HERE ### (≈ 4 lines of code)\n",
        "        if A[0][i] > 0.5:\n",
        "            Y_prediction[0][i] = 1\n",
        "        else:\n",
        "            Y_prediction[0][i] = 0\n",
        "            \n",
        "        ### END CODE HERE ###\n",
        "    \n",
        "    assert(Y_prediction.shape == (1, m))\n",
        "    \n",
        "    return Y_prediction"
      ],
      "execution_count": 0,
      "outputs": []
    },
    {
      "metadata": {
        "id": "-MxGAz1TgC6C",
        "colab_type": "code",
        "outputId": "9033435f-44d4-4b3a-c04e-58e3f5d0585f",
        "colab": {
          "base_uri": "https://localhost:8080/",
          "height": 34
        }
      },
      "cell_type": "code",
      "source": [
        "w = np.array([[0.1124579],[0.23106775]])\n",
        "b = -0.3\n",
        "X = np.array([[1.,-1.1,-3.2],[1.2,2.,0.1]])\n",
        "print (\"predictions = \" + str(predict(w, b, X)))"
      ],
      "execution_count": 0,
      "outputs": [
        {
          "output_type": "stream",
          "text": [
            "predictions = [[1. 1. 0.]]\n"
          ],
          "name": "stdout"
        }
      ]
    },
    {
      "metadata": {
        "id": "IjnYN1_2gHAl",
        "colab_type": "text"
      },
      "cell_type": "markdown",
      "source": [
        "**Expected Output**:  \n",
        "`predictions = [[ 1.  1.  0.]]`"
      ]
    },
    {
      "metadata": {
        "id": "olBDvIBlgT-K",
        "colab_type": "text"
      },
      "cell_type": "markdown",
      "source": [
        "## 4 - Merge All Functions into a Model ##\n",
        "\n",
        "You will now see how the overall model is structured by putting together all the building blocks (functions implemented in the previous parts) together, in the right order.\n",
        "\n",
        "**Exercise:** Implement the model function. Use the following notation:\n",
        "    - Y_prediction_test for your predictions on the test set\n",
        "    - Y_prediction_train for your predictions on the train set\n",
        "    - w, costs, grads for the outputs of optimize()"
      ]
    },
    {
      "metadata": {
        "id": "S1_mqmqpgRZH",
        "colab_type": "code",
        "colab": {}
      },
      "cell_type": "code",
      "source": [
        "def model(X_train, Y_train, X_test, Y_test, num_iterations = 2000, learning_rate = 0.5, print_cost = False):\n",
        "    \"\"\"\n",
        "    Builds the logistic regression model by calling the function you've implemented previously\n",
        "    \n",
        "    Arguments:\n",
        "    X_train -- training set represented by a numpy array of shape (num_px * num_px * 3, m_train)\n",
        "    Y_train -- training labels represented by a numpy array (vector) of shape (1, m_train)\n",
        "    X_test -- test set represented by a numpy array of shape (num_px * num_px * 3, m_test)\n",
        "    Y_test -- test labels represented by a numpy array (vector) of shape (1, m_test)\n",
        "    num_iterations -- hyperparameter representing the number of iterations to optimize the parameters\n",
        "    learning_rate -- hyperparameter representing the learning rate used in the update rule of optimize()\n",
        "    print_cost -- Set to true to print the cost every 100 iterations\n",
        "    \n",
        "    Returns:\n",
        "    d -- dictionary containing information about the model.\n",
        "    \"\"\"\n",
        "    \n",
        "    ### START CODE HERE ###\n",
        "    \n",
        "    # initialize parameters with zeros (≈ 1 line of code)\n",
        "    w, b = initialize_with_zeros(num_px * num_px * 3)\n",
        "\n",
        "    # Gradient descent (≈ 1 line of code)\n",
        "    # optimize(w, b, X, Y, num_iterations, learning_rate, print_cost = False)\n",
        "    parameters, grads, costs = optimize(w, b, X_train, Y_train, num_iterations, learning_rate, print_cost=True)\n",
        "    \n",
        "    # Retrieve parameters w and b from dictionary \"parameters\"\n",
        "    w = parameters[\"w\"]\n",
        "    b = parameters[\"b\"]\n",
        "    \n",
        "    # Predict test/train set examples (≈ 2 lines of code)\n",
        "    Y_prediction_test = predict(w, b, X_test)\n",
        "    Y_prediction_train = predict(w, b, X_train)\n",
        "\n",
        "    ### END CODE HERE ###\n",
        "\n",
        "    # Print train/test Errors\n",
        "    print(\"train accuracy: {} %\".format(100 - np.mean(np.abs(Y_prediction_train - Y_train)) * 100))\n",
        "    print(\"test accuracy: {} %\".format(100 - np.mean(np.abs(Y_prediction_test - Y_test)) * 100))\n",
        "\n",
        "    \n",
        "    d = {\"costs\": costs,\n",
        "         \"Y_prediction_test\": Y_prediction_test, \n",
        "         \"Y_prediction_train\" : Y_prediction_train, \n",
        "         \"w\" : w, \n",
        "         \"b\" : b,\n",
        "         \"learning_rate\" : learning_rate,\n",
        "         \"num_iterations\": num_iterations}\n",
        "    \n",
        "    return d"
      ],
      "execution_count": 0,
      "outputs": []
    },
    {
      "metadata": {
        "id": "LvMQdgOXhGc6",
        "colab_type": "code",
        "outputId": "e2ac02f4-f839-4e5a-c0e7-12e0e10e5096",
        "colab": {
          "base_uri": "https://localhost:8080/",
          "height": 391
        }
      },
      "cell_type": "code",
      "source": [
        "d = model(train_set_x, train_set_y, test_set_x, test_set_y, num_iterations = 2000, learning_rate = 0.005, print_cost = True)"
      ],
      "execution_count": 0,
      "outputs": [
        {
          "output_type": "stream",
          "text": [
            "Cost after iteration 0: 0.693147\n",
            "Cost after iteration 100: 0.584508\n",
            "Cost after iteration 200: 0.466949\n",
            "Cost after iteration 300: 0.376007\n",
            "Cost after iteration 400: 0.331463\n",
            "Cost after iteration 500: 0.303273\n",
            "Cost after iteration 600: 0.279880\n",
            "Cost after iteration 700: 0.260042\n",
            "Cost after iteration 800: 0.242941\n",
            "Cost after iteration 900: 0.228004\n",
            "Cost after iteration 1000: 0.214820\n",
            "Cost after iteration 1100: 0.203078\n",
            "Cost after iteration 1200: 0.192544\n",
            "Cost after iteration 1300: 0.183033\n",
            "Cost after iteration 1400: 0.174399\n",
            "Cost after iteration 1500: 0.166521\n",
            "Cost after iteration 1600: 0.159305\n",
            "Cost after iteration 1700: 0.152667\n",
            "Cost after iteration 1800: 0.146542\n",
            "Cost after iteration 1900: 0.140872\n",
            "train accuracy: 99.04306220095694 %\n",
            "test accuracy: 70.0 %\n"
          ],
          "name": "stdout"
        }
      ]
    },
    {
      "metadata": {
        "id": "_BE-2szhhtQG",
        "colab_type": "code",
        "outputId": "d044b751-a7f7-4c0e-9106-47f86e69403b",
        "colab": {
          "base_uri": "https://localhost:8080/",
          "height": 295
        }
      },
      "cell_type": "code",
      "source": [
        "# Plot learning curve (with costs)\n",
        "costs = np.squeeze(d['costs'])\n",
        "plt.plot(costs)\n",
        "plt.ylabel('cost')\n",
        "plt.xlabel('iterations (per hundreds)')\n",
        "plt.title(\"Learning rate =\" + str(d[\"learning_rate\"]))\n",
        "plt.show()"
      ],
      "execution_count": 0,
      "outputs": [
        {
          "output_type": "display_data",
          "data": {
            "image/png": "[encoded data removed]",
            "text/plain": [
              "<Figure size 432x288 with 1 Axes>"
            ]
          },
          "metadata": {
            "tags": []
          }
        }
      ]
    },
    {
      "metadata": {
        "id": "45XoKJMohKt3",
        "colab_type": "text"
      },
      "cell_type": "markdown",
      "source": [
        "### 4.1 - Choice of Learning Rate\n"
      ]
    },
    {
      "metadata": {
        "id": "dpXBNrKah3kF",
        "colab_type": "code",
        "outputId": "3ac00b90-b592-46c4-f434-9ad92df506c7",
        "colab": {
          "base_uri": "https://localhost:8080/",
          "height": 1354
        }
      },
      "cell_type": "code",
      "source": [
        "learning_rates = [0.01, 0.001, 0.0001]\n",
        "models = {}\n",
        "for i in learning_rates:\n",
        "    print (\"learning rate is: \" + str(i))\n",
        "    models[str(i)] = model(train_set_x, train_set_y, test_set_x, test_set_y, num_iterations = 1500, learning_rate = i, print_cost = False)\n",
        "    print ('\\n' + \"-------------------------------------------------------\" + '\\n')\n",
        "\n",
        "for i in learning_rates:\n",
        "    plt.plot(np.squeeze(models[str(i)][\"costs\"]), label= str(models[str(i)][\"learning_rate\"]))\n",
        "\n",
        "plt.ylabel('cost')\n",
        "plt.xlabel('iterations (hundreds)')\n",
        "\n",
        "legend = plt.legend(loc='upper center', shadow=True)\n",
        "frame = legend.get_frame()\n",
        "frame.set_facecolor('0.90')\n",
        "plt.show()"
      ],
      "execution_count": 0,
      "outputs": [
        {
          "output_type": "stream",
          "text": [
            "learning rate is: 0.01\n",
            "Cost after iteration 0: 0.693147\n",
            "Cost after iteration 100: 0.823921\n",
            "Cost after iteration 200: 0.418945\n",
            "Cost after iteration 300: 0.617350\n",
            "Cost after iteration 400: 0.522116\n",
            "Cost after iteration 500: 0.387709\n",
            "Cost after iteration 600: 0.236254\n",
            "Cost after iteration 700: 0.154222\n",
            "Cost after iteration 800: 0.135328\n",
            "Cost after iteration 900: 0.124971\n",
            "Cost after iteration 1000: 0.116478\n",
            "Cost after iteration 1100: 0.109193\n",
            "Cost after iteration 1200: 0.102804\n",
            "Cost after iteration 1300: 0.097130\n",
            "Cost after iteration 1400: 0.092043\n",
            "train accuracy: 99.52153110047847 %\n",
            "test accuracy: 68.0 %\n",
            "\n",
            "-------------------------------------------------------\n",
            "\n",
            "learning rate is: 0.001\n",
            "Cost after iteration 0: 0.693147\n",
            "Cost after iteration 100: 0.591289\n",
            "Cost after iteration 200: 0.555796\n",
            "Cost after iteration 300: 0.528977\n",
            "Cost after iteration 400: 0.506881\n",
            "Cost after iteration 500: 0.487880\n",
            "Cost after iteration 600: 0.471108\n",
            "Cost after iteration 700: 0.456046\n",
            "Cost after iteration 800: 0.442350\n",
            "Cost after iteration 900: 0.429782\n",
            "Cost after iteration 1000: 0.418164\n",
            "Cost after iteration 1100: 0.407362\n",
            "Cost after iteration 1200: 0.397269\n",
            "Cost after iteration 1300: 0.387802\n",
            "Cost after iteration 1400: 0.378888\n",
            "train accuracy: 88.99521531100478 %\n",
            "test accuracy: 64.0 %\n",
            "\n",
            "-------------------------------------------------------\n",
            "\n",
            "learning rate is: 0.0001\n",
            "Cost after iteration 0: 0.693147\n",
            "Cost after iteration 100: 0.643677\n",
            "Cost after iteration 200: 0.635737\n",
            "Cost after iteration 300: 0.628572\n",
            "Cost after iteration 400: 0.622040\n",
            "Cost after iteration 500: 0.616029\n",
            "Cost after iteration 600: 0.610455\n",
            "Cost after iteration 700: 0.605248\n",
            "Cost after iteration 800: 0.600354\n",
            "Cost after iteration 900: 0.595729\n",
            "Cost after iteration 1000: 0.591339\n",
            "Cost after iteration 1100: 0.587153\n",
            "Cost after iteration 1200: 0.583149\n",
            "Cost after iteration 1300: 0.579307\n",
            "Cost after iteration 1400: 0.575611\n",
            "train accuracy: 68.42105263157895 %\n",
            "test accuracy: 36.0 %\n",
            "\n",
            "-------------------------------------------------------\n",
            "\n"
          ],
          "name": "stdout"
        },
        {
          "output_type": "display_data",
          "data": {
            "image/png": "[encoded data removed]",
            "text/plain": [
              "<Figure size 432x288 with 1 Axes>"
            ]
          },
          "metadata": {
            "tags": []
          }
        }
      ]
    },
    {
      "metadata": {
        "id": "B3bSBDD-iJxA",
        "colab_type": "text"
      },
      "cell_type": "markdown",
      "source": [
        "### 4.2 - Test with your own image"
      ]
    },
    {
      "metadata": {
        "id": "TL3436q3h34s",
        "colab_type": "code",
        "outputId": "44c12637-83a5-4a1a-d3a1-4b9e26d12033",
        "colab": {
          "base_uri": "https://localhost:8080/",
          "height": 422
        }
      },
      "cell_type": "code",
      "source": [
        "import scipy\n",
        "from scipy import ndimage\n",
        "my_image = \"my_image.jpg\"   # change this to the name of your image file \n",
        "\n",
        "\n",
        "# We preprocess the image to fit your algorithm.\n",
        "fname = my_image\n",
        "image = np.array(ndimage.imread(fname, flatten=False))\n",
        "my_image = scipy.misc.imresize(image, size=(num_px,num_px)).reshape((1, num_px*num_px*3)).T\n",
        "my_predicted_image = predict(d[\"w\"], d[\"b\"], my_image)\n",
        "\n",
        "plt.imshow(image)\n",
        "print(\"y = \" + str(np.squeeze(my_predicted_image)) + \", your algorithm predicts a \\\"\" + classes[int(np.squeeze(my_predicted_image)),].decode(\"utf-8\") +  \"\\\" picture.\")"
      ],
      "execution_count": 0,
      "outputs": [
        {
          "output_type": "stream",
          "text": [
            "/usr/local/lib/python3.6/dist-packages/ipykernel_launcher.py:8: DeprecationWarning: `imread` is deprecated!\n",
            "`imread` is deprecated in SciPy 1.0.0.\n",
            "Use ``matplotlib.pyplot.imread`` instead.\n",
            "  \n",
            "/usr/local/lib/python3.6/dist-packages/ipykernel_launcher.py:9: DeprecationWarning: `imresize` is deprecated!\n",
            "`imresize` is deprecated in SciPy 1.0.0, and will be removed in 1.3.0.\n",
            "Use Pillow instead: ``numpy.array(Image.fromarray(arr).resize())``.\n",
            "  if __name__ == '__main__':\n"
          ],
          "name": "stderr"
        },
        {
          "output_type": "stream",
          "text": [
            "y = 0.0, your algorithm predicts a \"non-cat\" picture.\n"
          ],
          "name": "stdout"
        },
        {
          "output_type": "display_data",
          "data": {
            "image/png": "[encoded data removed]",
            "text/plain": [
              "<Figure size 432x288 with 1 Axes>"
            ]
          },
          "metadata": {
            "tags": []
          }
        }
      ]
    }
  ]
}