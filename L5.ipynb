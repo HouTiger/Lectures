{
  "nbformat": 4,
  "nbformat_minor": 0,
  "metadata": {
    "colab": {
      "name": "L5.ipynb",
      "version": "0.3.2",
      "provenance": [],
      "collapsed_sections": []
    },
    "kernelspec": {
      "name": "python3",
      "display_name": "Python 3"
    }
  },
  "cells": [
    {
      "metadata": {
        "id": "YhhrPjx7oVTZ",
        "colab_type": "text"
      },
      "cell_type": "markdown",
      "source": [
        "# Lesson5 - On Deep Neural Network Basics"
      ]
    },
    {
      "metadata": {
        "id": "7TbaaJheouh7",
        "colab_type": "text"
      },
      "cell_type": "markdown",
      "source": [
        "## 1 - Numpy Basics\n",
        "`numpy` is a handy python module for scientific computing and especially matrix computing.  \n",
        "Usually we rename module `numpy` as `np`"
      ]
    },
    {
      "metadata": {
        "id": "UIYzqmMNovE8",
        "colab_type": "code",
        "colab": {}
      },
      "cell_type": "code",
      "source": [
        "import numpy as np\n",
        "from IPython.display import Image"
      ],
      "execution_count": 0,
      "outputs": []
    },
    {
      "metadata": {
        "id": "Tj8KWQ_1tUC7",
        "colab_type": "text"
      },
      "cell_type": "markdown",
      "source": [
        "### 1.1 - Fuctions"
      ]
    },
    {
      "metadata": {
        "id": "F0MCSDm6pbaG",
        "colab_type": "text"
      },
      "cell_type": "markdown",
      "source": [
        "`np.array(list)` is often used to create numpy array from list."
      ]
    },
    {
      "metadata": {
        "id": "GVT5mzsUpHna",
        "colab_type": "code",
        "outputId": "d7dc12af-a89d-4031-d53a-19297cb7ed5e",
        "colab": {
          "base_uri": "https://localhost:8080/",
          "height": 34
        }
      },
      "cell_type": "code",
      "source": [
        "arr = np.array([1, 2, 3])\n",
        "print(arr)"
      ],
      "execution_count": 0,
      "outputs": [
        {
          "output_type": "stream",
          "text": [
            "[1 2 3]\n"
          ],
          "name": "stdout"
        }
      ]
    },
    {
      "metadata": {
        "id": "nHW8rNedp5P5",
        "colab_type": "text"
      },
      "cell_type": "markdown",
      "source": [
        "`np.zeros(arr_shape)` returns a matrix or vector in shape ordered by tuple `arr_shape`.  \n",
        "**Attention: arr_shape is a tuple**"
      ]
    },
    {
      "metadata": {
        "id": "zxHFdV49qTYH",
        "colab_type": "code",
        "outputId": "4001fcb1-3a78-4207-8720-31c0dbcfd170",
        "colab": {
          "base_uri": "https://localhost:8080/",
          "height": 51
        }
      },
      "cell_type": "code",
      "source": [
        "zero = np.zeros((2, 3))\n",
        "print(zero)"
      ],
      "execution_count": 0,
      "outputs": [
        {
          "output_type": "stream",
          "text": [
            "[[0. 0. 0.]\n",
            " [0. 0. 0.]]\n"
          ],
          "name": "stdout"
        }
      ]
    },
    {
      "metadata": {
        "id": "7gOd3U4ZqdMi",
        "colab_type": "text"
      },
      "cell_type": "markdown",
      "source": [
        "`np_matrix.shape` is the numpy matirx's shape in a tuple."
      ]
    },
    {
      "metadata": {
        "id": "0-IsS92gqu5Z",
        "colab_type": "code",
        "outputId": "44dbb83a-150e-4ec1-d7d5-7c1655aaf60f",
        "colab": {
          "base_uri": "https://localhost:8080/",
          "height": 34
        }
      },
      "cell_type": "code",
      "source": [
        "print(zero.shape)\n"
      ],
      "execution_count": 0,
      "outputs": [
        {
          "output_type": "stream",
          "text": [
            "(2, 3)\n"
          ],
          "name": "stdout"
        }
      ]
    },
    {
      "metadata": {
        "id": "2d6PrbtWri0Z",
        "colab_type": "text"
      },
      "cell_type": "markdown",
      "source": [
        "Pay attention, when you create numpy matrix from a one dimension list, the shape is usually `(m, )`.  \n",
        "Usually we reshape the matirx to be `(m, 1)` in case causing annoying bugs.\n",
        "The fuction you'll need is `np_matrix.reshape(dim1, dim2,..., dimn)`"
      ]
    },
    {
      "metadata": {
        "id": "g5FkCLHksBJ0",
        "colab_type": "code",
        "outputId": "2063ccfd-b0ac-470d-c570-26c34a494639",
        "colab": {
          "base_uri": "https://localhost:8080/",
          "height": 51
        }
      },
      "cell_type": "code",
      "source": [
        "print(arr.shape)\n",
        "arr = arr.reshape(arr.shape[0], 1)\n",
        "print(arr.shape)"
      ],
      "execution_count": 0,
      "outputs": [
        {
          "output_type": "stream",
          "text": [
            "(3,)\n",
            "(3, 1)\n"
          ],
          "name": "stdout"
        }
      ]
    },
    {
      "metadata": {
        "id": "0l90g7J0rCmV",
        "colab_type": "text"
      },
      "cell_type": "markdown",
      "source": [
        "`np.random.rand(dim1, dim2, ..., dimn)` returns a random initialized matrix shaped as tuple `arr_shape` appointed."
      ]
    },
    {
      "metadata": {
        "id": "J0cKRYc5s2os",
        "colab_type": "code",
        "outputId": "15a769b6-fa5e-48bf-dd76-797c5947c839",
        "colab": {
          "base_uri": "https://localhost:8080/",
          "height": 85
        }
      },
      "cell_type": "code",
      "source": [
        "mat_rand = np.random.rand(3, 5)\n",
        "print(mat_rand)\n",
        "print(mat_rand.shape)"
      ],
      "execution_count": 0,
      "outputs": [
        {
          "output_type": "stream",
          "text": [
            "[[0.47602897 0.88076377 0.01247704 0.3980761  0.98403803]\n",
            " [0.63483988 0.37220466 0.53616491 0.76325326 0.94196743]\n",
            " [0.39335472 0.23892841 0.94801984 0.03017083 0.9555027 ]]\n",
            "(3, 5)\n"
          ],
          "name": "stdout"
        }
      ]
    },
    {
      "metadata": {
        "id": "9k7m2zrHuGDy",
        "colab_type": "text"
      },
      "cell_type": "markdown",
      "source": [
        "`np.sum(matrix, axis=p, keepdims=True/False)` means to add matrix in dimension p, and returns."
      ]
    },
    {
      "metadata": {
        "id": "M9lSfgoVuiqp",
        "colab_type": "code",
        "outputId": "246c13b5-d18f-4261-8955-93e25b83f998",
        "colab": {
          "base_uri": "https://localhost:8080/",
          "height": 119
        }
      },
      "cell_type": "code",
      "source": [
        "rand_sum = np.sum(mat_rand, axis=1, keepdims=True)\n",
        "print(rand_sum)\n",
        "print(rand_sum.shape)\n",
        "rand_sum = np.sum(mat_rand, axis=1, keepdims=False)\n",
        "print(rand_sum)\n",
        "print(rand_sum.shape)"
      ],
      "execution_count": 0,
      "outputs": [
        {
          "output_type": "stream",
          "text": [
            "[[2.75138391]\n",
            " [3.24843014]\n",
            " [2.56597651]]\n",
            "(3, 1)\n",
            "[2.75138391 3.24843014 2.56597651]\n",
            "(3,)\n"
          ],
          "name": "stdout"
        }
      ]
    },
    {
      "metadata": {
        "id": "8S0cefTpPIuW",
        "colab_type": "text"
      },
      "cell_type": "markdown",
      "source": [
        "`np.dot(m1, m2)` does the matrix multiplication. Tell it apart from elemental multiplication."
      ]
    },
    {
      "metadata": {
        "id": "MtXwOdumPW0w",
        "colab_type": "code",
        "outputId": "e81e5bdf-bd47-4eec-c863-6b2ccc4b63b7",
        "colab": {
          "base_uri": "https://localhost:8080/",
          "height": 221
        }
      },
      "cell_type": "code",
      "source": [
        "A = np.ones((3, 3))\n",
        "print(A)\n",
        "I = np.eye(3, 3)\n",
        "print(I)\n",
        "print(np.dot(A, I))\n",
        "print(A * I)"
      ],
      "execution_count": 0,
      "outputs": [
        {
          "output_type": "stream",
          "text": [
            "[[1. 1. 1.]\n",
            " [1. 1. 1.]\n",
            " [1. 1. 1.]]\n",
            "[[1. 0. 0.]\n",
            " [0. 1. 0.]\n",
            " [0. 0. 1.]]\n",
            "[[1. 1. 1.]\n",
            " [1. 1. 1.]\n",
            " [1. 1. 1.]]\n",
            "[[1. 0. 0.]\n",
            " [0. 1. 0.]\n",
            " [0. 0. 1.]]\n"
          ],
          "name": "stdout"
        }
      ]
    },
    {
      "metadata": {
        "id": "5i0uGANttYrM",
        "colab_type": "text"
      },
      "cell_type": "markdown",
      "source": [
        "### 1.2 - Broadcasting"
      ]
    },
    {
      "metadata": {
        "id": "vwumZWt-ta2k",
        "colab_type": "text"
      },
      "cell_type": "markdown",
      "source": [
        "In numpy matrix, there is a concept called **broadcasting**, which allows us to add, multiply and divide matrix with matrix, vector and scalar in different shape."
      ]
    },
    {
      "metadata": {
        "id": "RccPFE_lwPeW",
        "colab_type": "text"
      },
      "cell_type": "markdown",
      "source": [
        "* matrix op matrix"
      ]
    },
    {
      "metadata": {
        "id": "hp_DWSpwtaCX",
        "colab_type": "code",
        "outputId": "7ac6ea2d-89e5-4114-f5a6-2fdcc8868fed",
        "colab": {
          "base_uri": "https://localhost:8080/",
          "height": 170
        }
      },
      "cell_type": "code",
      "source": [
        "a = np.random.rand(3, 3)\n",
        "print(a)\n",
        "b = np.ones((3, 1))\n",
        "print(b)\n",
        "print(a + b)"
      ],
      "execution_count": 0,
      "outputs": [
        {
          "output_type": "stream",
          "text": [
            "[[0.3478792  0.69534942 0.13370806]\n",
            " [0.04935268 0.88896422 0.07573869]\n",
            " [0.79059463 0.44352386 0.10042051]]\n",
            "[[1.]\n",
            " [1.]\n",
            " [1.]]\n",
            "[[1.3478792  1.69534942 1.13370806]\n",
            " [1.04935268 1.88896422 1.07573869]\n",
            " [1.79059463 1.44352386 1.10042051]]\n"
          ],
          "name": "stdout"
        }
      ]
    },
    {
      "metadata": {
        "id": "eKm10N3awvik",
        "colab_type": "text"
      },
      "cell_type": "markdown",
      "source": [
        "* matrix op scalar"
      ]
    },
    {
      "metadata": {
        "id": "pWcM_hQHwe7n",
        "colab_type": "code",
        "outputId": "ad7cd783-d957-4d6f-b040-9ff5ce710d4c",
        "colab": {
          "base_uri": "https://localhost:8080/",
          "height": 68
        }
      },
      "cell_type": "code",
      "source": [
        "print(a + 1)"
      ],
      "execution_count": 0,
      "outputs": [
        {
          "output_type": "stream",
          "text": [
            "[[1.3478792  1.69534942 1.13370806]\n",
            " [1.04935268 1.88896422 1.07573869]\n",
            " [1.79059463 1.44352386 1.10042051]]\n"
          ],
          "name": "stdout"
        }
      ]
    },
    {
      "metadata": {
        "id": "4Pnf3CJ-w5PN",
        "colab_type": "text"
      },
      "cell_type": "markdown",
      "source": [
        "* matrix op vector"
      ]
    },
    {
      "metadata": {
        "id": "yqxtLFK8wmrm",
        "colab_type": "code",
        "outputId": "a7b36495-fdb8-4745-d223-f47eb6984888",
        "colab": {
          "base_uri": "https://localhost:8080/",
          "height": 68
        }
      },
      "cell_type": "code",
      "source": [
        "b = np.ones((3, ))\n",
        "print(a + b)"
      ],
      "execution_count": 0,
      "outputs": [
        {
          "output_type": "stream",
          "text": [
            "[[1.3478792  1.69534942 1.13370806]\n",
            " [1.04935268 1.88896422 1.07573869]\n",
            " [1.79059463 1.44352386 1.10042051]]\n"
          ],
          "name": "stdout"
        }
      ]
    },
    {
      "metadata": {
        "id": "aEGQRj5qBwRH",
        "colab_type": "text"
      },
      "cell_type": "markdown",
      "source": [
        "## 2 - Logistic Regression  \n",
        "There is a `binary classification` problem to recognize cat. "
      ]
    },
    {
      "metadata": {
        "id": "7Z4FEgRxUg4A",
        "colab_type": "text"
      },
      "cell_type": "markdown",
      "source": [
        "### 2.1 - Data Normalization  \n",
        "Usually we map the pixel value of image to `(-1, 1)` or `(0, 1)`before training the model.  \n",
        "It makes gradient descent to converge faster.  \n",
        "![Normalization](https://drive.google.com/uc?id=1t4M1azqisIrk4xTQEgvy1Tz3M-0szRJd)"
      ]
    },
    {
      "metadata": {
        "id": "6Z1-y12OYlTR",
        "colab_type": "text"
      },
      "cell_type": "markdown",
      "source": [
        "### 2.2 - Defining Structure  \n",
        "![LogReg_kiank.png](https://drive.google.com/uc?id=1jO7mU5iz2-XAF9F_zwoAanNG9o5-Qxx3)\n"
      ]
    },
    {
      "metadata": {
        "id": "kbekKjmoW9BT",
        "colab_type": "text"
      },
      "cell_type": "markdown",
      "source": [
        "### 2.3 - Parameters Initialization . \n",
        "Usually we initialize parameters $W$ randomly, and let $b$ to be zero.  \n",
        "Question: Why don't initialize all parameters to be zero?\n"
      ]
    },
    {
      "metadata": {
        "id": "K7LV0cnNI0xs",
        "colab_type": "text"
      },
      "cell_type": "markdown",
      "source": [
        "### 2.4 - Forward Propagation\n",
        "The original image is an 64 * 64 RGB, which means the shape is `(64, 64, 3)`.     \n",
        "$x^{(i)}$ is the $i$th image  shaped as a colomn vector.    \n",
        "So $x^{(i)}.shape = $   `(12288, 1)`    \n",
        "The output is the probability of image being a cat.  \n",
        "We suppose the probability could be calculated by a linear funtion:  \n",
        "$$z^{(i)} = w_0x^{(i)}_0 + w_1x^{(i)}_1 + ... + w_{12287}x^{(i)}_{12287} + b$$    \n",
        "But $y^{(i)}$ maybe too large, so we use fuction `sigmoid` to map $y^{(i)}$ to `(0, 1)`    \n",
        "\n"
      ]
    },
    {
      "metadata": {
        "id": "3MWGLPmfTXs2",
        "colab_type": "text"
      },
      "cell_type": "markdown",
      "source": [
        "![sigmoid](https://drive.google.com/uc?id=1BIBcyF9SFut2o3Z9nur27UnSaDgMBoXP)"
      ]
    },
    {
      "metadata": {
        "id": "E7GPzL319BjE",
        "colab_type": "text"
      },
      "cell_type": "markdown",
      "source": [
        "So the predicted probability of image being cat is:\n",
        "$$\\hat y^{(i)} = a^{(i)} = sigmoid(z^{(i)}) = \\frac{1}{1 + e^{-z}}$$  \n",
        "We usually call the output of a neuron **activation**, the reason would be discussed later."
      ]
    },
    {
      "metadata": {
        "id": "hgsRzpAjF8Aw",
        "colab_type": "text"
      },
      "cell_type": "markdown",
      "source": [
        "#### 2.4.1 Vectorization\n",
        "How do we deal with multiple images at the same time?  \n",
        "It's called vectorization, mainly depends on matrix operations.  \n",
        "We use $X = (x^{(1)}, x^{(2)}, ..., x^{(m)})$ as input,  \n",
        "$W = (w_0, w_1, ..., w_m)^T$  \n",
        "then $Z = (z^{(1)}, z^{(2)}, ..., z^{(m)}) = W^TX + b$  \n",
        "the output $A = (a^{(1)}, a^{(2)}, ..., a^{(m)})= sigmoid(Z)$  \n",
        "\n"
      ]
    },
    {
      "metadata": {
        "id": "-F8Mm4i3zrNc",
        "colab_type": "text"
      },
      "cell_type": "markdown",
      "source": [
        "### 2.5 - Backward Propagation"
      ]
    },
    {
      "metadata": {
        "id": "Fi5_7VE2JMA-",
        "colab_type": "text"
      },
      "cell_type": "markdown",
      "source": [
        "Now we have the predictions about m images.  \n",
        "But the result could be horrible.  \n",
        "Let's define the loss/difference between **predicted result** and **true result**.   \n",
        "\n",
        "$$\\mathcal{L}(a^{(i)}, y^{(i)}) =  - y^{(i)}  \\log(a^{(i)}) - (1-y^{(i)} )  \\log(1-a^{(i)})$$  \n",
        "The loss fuction can be defined freely, as long as it makes sense.  \n",
        "The average loss should be:  \n",
        "$$J = -\\frac{1}{m}\\sum_{i=1}^{m}y^{(i)}\\log(a^{(i)})+(1-y^{(i)})\\log(1-a^{(i)})$$"
      ]
    },
    {
      "metadata": {
        "id": "uO-PD_ToLj05",
        "colab_type": "text"
      },
      "cell_type": "markdown",
      "source": [
        "#### 2.5.1 - Gradient Descent\n",
        "Now we have $J(w_0, w_1, ..., w_m, b, x_0, x_1, ...,x_m)$,  \n",
        "the target is to minimize $J$ by changing $w_0, w_1, ..., w_m, b$  \n",
        "Basically, there are two options:\n",
        "* Let each partial derivative to be zero, then solve the equations, get the value of $w_0, w_1, ..., w_m, b$  \n",
        "* Using gradient descent . \n",
        "$$w_0 = w_0 - \\alpha \\frac{\\partial J}{\\partial w_0} $$\n",
        "$$w_1 = w_1 - \\alpha \\frac{\\partial J}{\\partial w_1} $$  \n",
        "$$...$$\n",
        "$$w_m = w_m - \\alpha \\frac{\\partial J}{\\partial w_m} $$  \n",
        "$$ b = b - \\alpha \\frac{\\partial J}{\\partial b} $$\n",
        "  $\\alpha$ is a scalar, usually in $(0, 1)$  called **Learning Rate**.  \n",
        "  It can be proved that for $f = (x_0, x_1, ..., x_n)$ the fastest increasing direction is $(\\frac{\\partial f}{\\partial x_0}, \\frac{\\partial f}{\\partial x_1}, ..., \\frac{\\partial f}{\\partial x_n})$"
      ]
    },
    {
      "metadata": {
        "id": "DGEfFzaPQJra",
        "colab_type": "text"
      },
      "cell_type": "markdown",
      "source": [
        "After gradient descent, wo complete forward / backward propagation once, it's call 1 **iteration**.  \n",
        "Then we repeat the iteration untill the loss is acceptable, then the neural network training is finished.  \n",
        "By now the model should have a high accuracy for prediction.\n",
        "\n"
      ]
    },
    {
      "metadata": {
        "id": "EbAkTeZxa3tT",
        "colab_type": "text"
      },
      "cell_type": "markdown",
      "source": [
        "#### 2.5.2 - Choose Your Learning Rate Carefully\n",
        "The learning rate should neither be too small nor too big.  \n",
        "If it's too big, you may never converge to minima in gradient descent.    \n",
        "If it's too small, the process to converge to minima would be extremely long.    \n",
        "![](https://drive.google.com/uc?id=1azoR9lY_R2Q-H1V-iKIPq0x1k2d9gW_s)"
      ]
    },
    {
      "metadata": {
        "id": "wA37hNMwRlpX",
        "colab_type": "text"
      },
      "cell_type": "markdown",
      "source": [
        "## 3 - Build Your Own Logistic Regression Model\n",
        "- [h5py](http://www.h5py.org) is a common package to interact with a dataset that is stored on an H5 file.\n",
        "- [matplotlib](http://matplotlib.org) is a famous library to plot graphs in Python.  \n",
        "\n",
        "The process are as follows:  \n",
        "1. Data Normalization\n",
        "2. Defining Model Structure\n",
        "3. Initializing Parameters\n",
        "4. Loop:\n",
        "  - Forward Propagation: Calculate Current Loss\n",
        "  - Backward Propagation: Calculate Current Gradient\n",
        "  - Update parameters: Gradient Descent"
      ]
    },
    {
      "metadata": {
        "id": "cU7a_mB3aGVz",
        "colab_type": "text"
      },
      "cell_type": "markdown",
      "source": [
        "### 3.1 - Data Washing"
      ]
    },
    {
      "metadata": {
        "id": "e6VMp117zulq",
        "colab_type": "code",
        "colab": {}
      },
      "cell_type": "code",
      "source": [
        "import h5py\n",
        "import matplotlib.pyplot as plt"
      ],
      "execution_count": 0,
      "outputs": []
    },
    {
      "metadata": {
        "id": "0r6Z73O-R_a0",
        "colab_type": "code",
        "colab": {}
      },
      "cell_type": "code",
      "source": [
        "def load_dataset():\n",
        "    train_dataset = h5py.File('./train_catvnoncat.h5', \"r\")\n",
        "    train_set_x_orig = np.array(train_dataset[\"train_set_x\"][:]) # your train set features\n",
        "    train_set_y_orig = np.array(train_dataset[\"train_set_y\"][:]) # your train set labels\n",
        "\n",
        "    test_dataset = h5py.File('./test_catvnoncat.h5', \"r\")\n",
        "    test_set_x_orig = np.array(test_dataset[\"test_set_x\"][:]) # your test set features\n",
        "    test_set_y_orig = np.array(test_dataset[\"test_set_y\"][:]) # your test set labels\n",
        "\n",
        "    classes = np.array(test_dataset[\"list_classes\"][:]) # the list of classes\n",
        "    \n",
        "    train_set_y_orig = train_set_y_orig.reshape((1, train_set_y_orig.shape[0]))\n",
        "    test_set_y_orig = test_set_y_orig.reshape((1, test_set_y_orig.shape[0]))\n",
        "    \n",
        "    return train_set_x_orig, train_set_y_orig, test_set_x_orig, test_set_y_orig, classes"
      ],
      "execution_count": 0,
      "outputs": []
    },
    {
      "metadata": {
        "id": "W9TFQ8u6SCj9",
        "colab_type": "code",
        "colab": {}
      },
      "cell_type": "code",
      "source": [
        "train_set_x_orig, train_set_y, test_set_x_orig, test_set_y, classes = load_dataset()"
      ],
      "execution_count": 0,
      "outputs": []
    },
    {
      "metadata": {
        "id": "5ugmXEW4SJ6V",
        "colab_type": "code",
        "outputId": "abe6c3cf-9c4d-4412-aace-9b8a59d14d1e",
        "colab": {
          "base_uri": "https://localhost:8080/",
          "height": 286
        }
      },
      "cell_type": "code",
      "source": [
        "# Example of a picture\n",
        "index = 25 # Change the index to see different picture\n",
        "plt.imshow(train_set_x_orig[index])\n",
        "print (\"y = \" + str(train_set_y[:, index]) + \", it's a '\" + classes[np.squeeze(train_set_y[:, index])].decode(\"utf-8\") +  \"' picture.\")"
      ],
      "execution_count": 0,
      "outputs": [
        {
          "output_type": "stream",
          "text": [
            "y = [1], it's a 'cat' picture.\n"
          ],
          "name": "stdout"
        },
        {
          "output_type": "display_data",
          "data": {
            "image/png": "[encoded data removed]",
            "text/plain": [
              "<Figure size 432x288 with 1 Axes>"
            ]
          },
          "metadata": {
            "tags": []
          }
        }
      ]
    },
    {
      "metadata": {
        "id": "VeaXejrGVcqH",
        "colab_type": "code",
        "outputId": "91f944e5-5d2f-44e7-d8d0-6053eb951ef7",
        "colab": {
          "base_uri": "https://localhost:8080/",
          "height": 153
        }
      },
      "cell_type": "code",
      "source": [
        "m_train = train_set_x_orig.shape[0]\n",
        "m_test = test_set_x_orig.shape[0]\n",
        "num_px = train_set_x_orig.shape[1] \n",
        "\n",
        "\n",
        "print (\"Number of training examples: m_train = \" + str(m_train))\n",
        "print (\"Number of testing examples: m_test = \" + str(m_test))\n",
        "print (\"Height/Width of each image: num_px = \" + str(num_px))\n",
        "print (\"Each image is of size: (\" + str(num_px) + \", \" + str(num_px) + \", 3)\")\n",
        "print (\"train_set_x shape: \" + str(train_set_x_orig.shape))\n",
        "print (\"train_set_y shape: \" + str(train_set_y.shape))\n",
        "print (\"test_set_x shape: \" + str(test_set_x_orig.shape))\n",
        "print (\"test_set_y shape: \" + str(test_set_y.shape))"
      ],
      "execution_count": 0,
      "outputs": [
        {
          "output_type": "stream",
          "text": [
            "Number of training examples: m_train = 209\n",
            "Number of testing examples: m_test = 50\n",
            "Height/Width of each image: num_px = 64\n",
            "Each image is of size: (64, 64, 3)\n",
            "train_set_x shape: (209, 64, 64, 3)\n",
            "train_set_y shape: (1, 209)\n",
            "test_set_x shape: (50, 64, 64, 3)\n",
            "test_set_y shape: (1, 50)\n"
          ],
          "name": "stdout"
        }
      ]
    },
    {
      "metadata": {
        "id": "OwC8Q20gaAJP",
        "colab_type": "code",
        "outputId": "852c12e6-19a9-40bc-e678-95a692eefc66",
        "colab": {
          "base_uri": "https://localhost:8080/",
          "height": 102
        }
      },
      "cell_type": "code",
      "source": [
        "# Reshape the training and test examples\n",
        "train_set_x_flatten = train_set_x_orig.reshape(train_set_x_orig.shape[0], -1).T\n",
        "test_set_x_flatten = test_set_x_orig.reshape(test_set_x_orig.shape[0], -1).T\n",
        "\n",
        "\n",
        "print (\"train_set_x_flatten shape: \" + str(train_set_x_flatten.shape))\n",
        "print (\"train_set_y shape: \" + str(train_set_y.shape))\n",
        "print (\"test_set_x_flatten shape: \" + str(test_set_x_flatten.shape))\n",
        "print (\"test_set_y shape: \" + str(test_set_y.shape))\n",
        "print (\"sanity check after reshaping: \" + str(train_set_x_flatten[0:5,0]))"
      ],
      "execution_count": 0,
      "outputs": [
        {
          "output_type": "stream",
          "text": [
            "train_set_x_flatten shape: (12288, 209)\n",
            "train_set_y shape: (1, 209)\n",
            "test_set_x_flatten shape: (12288, 50)\n",
            "test_set_y shape: (1, 50)\n",
            "sanity check after reshaping: [17 31 56 22 33]\n"
          ],
          "name": "stdout"
        }
      ]
    },
    {
      "metadata": {
        "id": "TKeLoyJoZz6F",
        "colab_type": "text"
      },
      "cell_type": "markdown",
      "source": [
        "### 3.2 - Data Normalization"
      ]
    },
    {
      "metadata": {
        "id": "mtWjNtWmUrRE",
        "colab_type": "code",
        "colab": {}
      },
      "cell_type": "code",
      "source": [
        "train_set_x = train_set_x_flatten / 255.\n",
        "test_set_x = test_set_x_flatten / 255."
      ],
      "execution_count": 0,
      "outputs": []
    },
    {
      "metadata": {
        "id": "brYHPaUEbXGn",
        "colab_type": "text"
      },
      "cell_type": "markdown",
      "source": [
        "### 3.3 - Sigmoid Fuction . \n",
        "**Exercise**: Implement `sigmoid()`. As you've seen in the figure above, you need to compute $sigmoid( w^T x + b) = \\frac{1}{1 + e^{-(w^T x + b)}}$ to make predictions. Use `np.exp()`."
      ]
    },
    {
      "metadata": {
        "id": "MvEhCJd0Z4p6",
        "colab_type": "code",
        "colab": {}
      },
      "cell_type": "code",
      "source": [
        "def sigmoid(z):\n",
        "    \"\"\"\n",
        "    Compute the sigmoid of z\n",
        "\n",
        "    Arguments:\n",
        "    z -- A scalar or numpy array of any size.\n",
        "\n",
        "    Return:\n",
        "    s -- sigmoid(z)\n",
        "    \"\"\"\n",
        "\n",
        "    ### START CODE HERE ### (≈ 1 line of code)\n",
        "    s = None\n",
        "    ### END CODE HERE ###\n",
        "    \n",
        "    return s"
      ],
      "execution_count": 0,
      "outputs": []
    },
    {
      "metadata": {
        "id": "iBG9ux15b5hp",
        "colab_type": "code",
        "outputId": "9a30043a-3e0b-490c-ef24-4d866c956a40",
        "colab": {
          "base_uri": "https://localhost:8080/",
          "height": 34
        }
      },
      "cell_type": "code",
      "source": [
        "print (\"sigmoid([0, 2]) = \" + str(sigmoid(np.array([0,2]))))"
      ],
      "execution_count": 0,
      "outputs": [
        {
          "output_type": "stream",
          "text": [
            "sigmoid([0, 2]) = None\n"
          ],
          "name": "stdout"
        }
      ]
    },
    {
      "metadata": {
        "id": "VO1BhDeZcG2C",
        "colab_type": "text"
      },
      "cell_type": "markdown",
      "source": [
        "**Expected Output**: `[ 0.5      0.88079708]`"
      ]
    },
    {
      "metadata": {
        "id": "fy8PRjZbcgfP",
        "colab_type": "text"
      },
      "cell_type": "markdown",
      "source": [
        "### 3.4 - Initializing Parameters\n",
        "**Exercise:** Implement parameter initialization in the cell below. You have to initialize $w$ as a vector of zeros. If you don't know what numpy function to use, look up `np.zeros()` in the Numpy library's documentation."
      ]
    },
    {
      "metadata": {
        "id": "2_NjqOywcEGV",
        "colab_type": "code",
        "colab": {}
      },
      "cell_type": "code",
      "source": [
        "def initialize_with_zeros(dim):\n",
        "    \"\"\"\n",
        "    This function creates a vector of zeros of shape (dim, 1) for w and initializes b to 0.\n",
        "    \n",
        "    Argument:\n",
        "    dim -- size of the w vector we want (or number of parameters in this case)\n",
        "    \n",
        "    Returns:\n",
        "    w -- initialized vector of shape (dim, 1)\n",
        "    b -- initialized scalar (corresponds to the bias)\n",
        "    \"\"\"\n",
        "    \n",
        "    ### START CODE HERE ### (≈ 2 line of code)\n",
        "    w = None\n",
        "    b = None\n",
        "    ### END CODE HERE ###\n",
        "\n",
        "    assert(w.shape == (dim, 1))\n",
        "    assert(isinstance(b, float) or isinstance(b, int))\n",
        "    \n",
        "    return w, b"
      ],
      "execution_count": 0,
      "outputs": []
    },
    {
      "metadata": {
        "id": "ZdCK1yhZcyN5",
        "colab_type": "code",
        "outputId": "aff73a1d-160d-457c-879c-5459ae9eb947",
        "colab": {
          "base_uri": "https://localhost:8080/",
          "height": 338
        }
      },
      "cell_type": "code",
      "source": [
        "dim = 2\n",
        "w, b = initialize_with_zeros(dim)\n",
        "print (\"w = \" + str(w))\n",
        "print (\"b = \" + str(b))"
      ],
      "execution_count": 0,
      "outputs": [
        {
          "output_type": "error",
          "ename": "AttributeError",
          "evalue": "ignored",
          "traceback": [
            "\u001b[0;31m---------------------------------------------------------------------------\u001b[0m",
            "\u001b[0;31mAttributeError\u001b[0m                            Traceback (most recent call last)",
            "\u001b[0;32m<ipython-input-43-def32b236a24>\u001b[0m in \u001b[0;36m<module>\u001b[0;34m()\u001b[0m\n\u001b[1;32m      1\u001b[0m \u001b[0mdim\u001b[0m \u001b[0;34m=\u001b[0m \u001b[0;36m2\u001b[0m\u001b[0;34m\u001b[0m\u001b[0;34m\u001b[0m\u001b[0m\n\u001b[0;32m----> 2\u001b[0;31m \u001b[0mw\u001b[0m\u001b[0;34m,\u001b[0m \u001b[0mb\u001b[0m \u001b[0;34m=\u001b[0m \u001b[0minitialize_with_zeros\u001b[0m\u001b[0;34m(\u001b[0m\u001b[0mdim\u001b[0m\u001b[0;34m)\u001b[0m\u001b[0;34m\u001b[0m\u001b[0;34m\u001b[0m\u001b[0m\n\u001b[0m\u001b[1;32m      3\u001b[0m \u001b[0mprint\u001b[0m \u001b[0;34m(\u001b[0m\u001b[0;34m\"w = \"\u001b[0m \u001b[0;34m+\u001b[0m \u001b[0mstr\u001b[0m\u001b[0;34m(\u001b[0m\u001b[0mw\u001b[0m\u001b[0;34m)\u001b[0m\u001b[0;34m)\u001b[0m\u001b[0;34m\u001b[0m\u001b[0;34m\u001b[0m\u001b[0m\n\u001b[1;32m      4\u001b[0m \u001b[0mprint\u001b[0m \u001b[0;34m(\u001b[0m\u001b[0;34m\"b = \"\u001b[0m \u001b[0;34m+\u001b[0m \u001b[0mstr\u001b[0m\u001b[0;34m(\u001b[0m\u001b[0mb\u001b[0m\u001b[0;34m)\u001b[0m\u001b[0;34m)\u001b[0m\u001b[0;34m\u001b[0m\u001b[0;34m\u001b[0m\u001b[0m\n",
            "\u001b[0;32m<ipython-input-42-d7defc399d90>\u001b[0m in \u001b[0;36minitialize_with_zeros\u001b[0;34m(dim)\u001b[0m\n\u001b[1;32m     16\u001b[0m     \u001b[0;31m### END CODE HERE ###\u001b[0m\u001b[0;34m\u001b[0m\u001b[0;34m\u001b[0m\u001b[0;34m\u001b[0m\u001b[0m\n\u001b[1;32m     17\u001b[0m \u001b[0;34m\u001b[0m\u001b[0m\n\u001b[0;32m---> 18\u001b[0;31m     \u001b[0;32massert\u001b[0m\u001b[0;34m(\u001b[0m\u001b[0mw\u001b[0m\u001b[0;34m.\u001b[0m\u001b[0mshape\u001b[0m \u001b[0;34m==\u001b[0m \u001b[0;34m(\u001b[0m\u001b[0mdim\u001b[0m\u001b[0;34m,\u001b[0m \u001b[0;36m1\u001b[0m\u001b[0;34m)\u001b[0m\u001b[0;34m)\u001b[0m\u001b[0;34m\u001b[0m\u001b[0;34m\u001b[0m\u001b[0m\n\u001b[0m\u001b[1;32m     19\u001b[0m     \u001b[0;32massert\u001b[0m\u001b[0;34m(\u001b[0m\u001b[0misinstance\u001b[0m\u001b[0;34m(\u001b[0m\u001b[0mb\u001b[0m\u001b[0;34m,\u001b[0m \u001b[0mfloat\u001b[0m\u001b[0;34m)\u001b[0m \u001b[0;32mor\u001b[0m \u001b[0misinstance\u001b[0m\u001b[0;34m(\u001b[0m\u001b[0mb\u001b[0m\u001b[0;34m,\u001b[0m \u001b[0mint\u001b[0m\u001b[0;34m)\u001b[0m\u001b[0;34m)\u001b[0m\u001b[0;34m\u001b[0m\u001b[0;34m\u001b[0m\u001b[0m\n\u001b[1;32m     20\u001b[0m \u001b[0;34m\u001b[0m\u001b[0m\n",
            "\u001b[0;31mAttributeError\u001b[0m: 'NoneType' object has no attribute 'shape'"
          ]
        }
      ]
    },
    {
      "metadata": {
        "id": "HFzO6n_5c1qg",
        "colab_type": "text"
      },
      "cell_type": "markdown",
      "source": [
        "**Expected Output**:  \n",
        "`w = [[0.]\n",
        " [0.]]`  \n",
        " \n",
        "`b = 0`"
      ]
    },
    {
      "metadata": {
        "id": "rBogHhb9dNu4",
        "colab_type": "text"
      },
      "cell_type": "markdown",
      "source": [
        "### 3.5 - Forward Propagate . \n",
        "**Exercise:** Implement a function `propagate()` that computes the cost function and its gradient.\n",
        "\n",
        "**Hints**:\n",
        "\n",
        "Forward Propagation:\n",
        "- You get X\n",
        "- You compute $A = \\sigma(w^T X + b) = (a^{(1)}, a^{(2)}, ..., a^{(m-1)}, a^{(m)})$\n",
        "- You calculate the cost function: $J = -\\frac{1}{m}\\sum_{i=1}^{m}y^{(i)}\\log(a^{(i)})+(1-y^{(i)})\\log(1-a^{(i)})$ \n",
        "\n",
        "Here are the two formulas you will be using: \n",
        "\n",
        "$$ \\frac{\\partial J}{\\partial w} = \\frac{1}{m}X(A-Y)^T$$\n",
        "$$ \\frac{\\partial J}{\\partial b} = \\frac{1}{m} \\sum_{i=1}^m (a^{(i)}-y^{(i)})$$  \n",
        "\n",
        "Try `np.log()` if you need."
      ]
    },
    {
      "metadata": {
        "id": "SIP3BINWcz1L",
        "colab_type": "code",
        "colab": {}
      },
      "cell_type": "code",
      "source": [
        "def propagate(w, b, X, Y):\n",
        "    \"\"\"\n",
        "    Implement the cost function and its gradient for the propagation explained above\n",
        "\n",
        "    Arguments:\n",
        "    w -- weights, a numpy array of size (num_px * num_px * 3, 1)\n",
        "    b -- bias, a scalar\n",
        "    X -- data of size (num_px * num_px * 3, number of examples)\n",
        "    Y -- true \"label\" vector (containing 0 if non-cat, 1 if cat) of size (1, number of examples)\n",
        "\n",
        "    Return:\n",
        "    cost -- negative log-likelihood cost for logistic regression\n",
        "    dw -- gradient of the loss with respect to w, thus same shape as w\n",
        "    db -- gradient of the loss with respect to b, thus same shape as b\n",
        "    \n",
        "    Tips:\n",
        "    - Write your code step by step for the propagation. np.log(), np.dot()\n",
        "    \"\"\"\n",
        "    \n",
        "    m = X.shape[1]\n",
        "    \n",
        "    # FORWARD PROPAGATION (FROM X TO COST)\n",
        "    ### START CODE HERE ### (≈ 2 lines of code)\n",
        "    A = None                                 # compute activation\n",
        "    cost = None                              # compute cost\n",
        "    ### END CODE HERE ###\n",
        "    \n",
        "    # BACKWARD PROPAGATION (TO FIND GRAD)\n",
        "    ### START CODE HERE ### (≈ 2 lines of code)\n",
        "    dw = None\n",
        "    db = None\n",
        "    ### END CODE HERE ###\n",
        "\n",
        "    assert(dw.shape == w.shape)\n",
        "    assert(db.dtype == float)\n",
        "    cost = np.squeeze(cost)\n",
        "    assert(cost.shape == ())\n",
        "    \n",
        "    grads = {\"dw\": dw,\n",
        "             \"db\": db}\n",
        "    \n",
        "    return grads, cost"
      ],
      "execution_count": 0,
      "outputs": []
    },
    {
      "metadata": {
        "id": "KMdWA4gsdpbF",
        "colab_type": "code",
        "colab": {}
      },
      "cell_type": "code",
      "source": [
        "w, b, X, Y = np.array([[1.],[2.]]), 2., np.array([[1.,2.,-1.],[3.,4.,-3.2]]), np.array([[1,0,1]])\n",
        "grads, cost = propagate(w, b, X, Y)\n",
        "print (\"dw = \" + str(grads[\"dw\"]))\n",
        "print (\"db = \" + str(grads[\"db\"]))\n",
        "print (\"cost = \" + str(cost))"
      ],
      "execution_count": 0,
      "outputs": []
    },
    {
      "metadata": {
        "id": "ZQyKxrddeC1x",
        "colab_type": "text"
      },
      "cell_type": "markdown",
      "source": [
        "**Expected Output**:    \n",
        "`dw = [[ 0.99845601]\n",
        " [ 2.39507239]]`  \n",
        "`db = 0.00145557813678`  \n",
        "`cost = 5.801545319394553`"
      ]
    },
    {
      "metadata": {
        "id": "AkEJihI-fFTZ",
        "colab_type": "text"
      },
      "cell_type": "markdown",
      "source": [
        "### 3.6 - Optimization\n",
        "- You have initialized your parameters.\n",
        "- You are also able to compute a cost function and its gradient.\n",
        "- Now, you want to update the parameters using gradient descent.\n",
        "\n",
        "**Exercise:** Write down the optimization function. The goal is to learn $w$ and $b$ by minimizing the cost function $J$. For a parameter $\\theta$, the update rule is $ \\theta = \\theta - \\alpha \\text{ } d\\theta$, where $\\alpha$ is the learning rate."
      ]
    },
    {
      "metadata": {
        "id": "pcCmSzaIfHYq",
        "colab_type": "code",
        "colab": {}
      },
      "cell_type": "code",
      "source": [
        "def optimize(w, b, X, Y, num_iterations, learning_rate, print_cost = False):\n",
        "    \"\"\"\n",
        "    This function optimizes w and b by running a gradient descent algorithm\n",
        "    \n",
        "    Arguments:\n",
        "    w -- weights, a numpy array of size (num_px * num_px * 3, 1)\n",
        "    b -- bias, a scalar\n",
        "    X -- data of shape (num_px * num_px * 3, number of examples)\n",
        "    Y -- true \"label\" vector (containing 0 if non-cat, 1 if cat), of shape (1, number of examples)\n",
        "    num_iterations -- number of iterations of the optimization loop\n",
        "    learning_rate -- learning rate of the gradient descent update rule\n",
        "    print_cost -- True to print the loss every 100 steps\n",
        "    \n",
        "    Returns:\n",
        "    params -- dictionary containing the weights w and bias b\n",
        "    grads -- dictionary containing the gradients of the weights and bias with respect to the cost function\n",
        "    costs -- list of all the costs computed during the optimization, this will be used to plot the learning curve.\n",
        "    \n",
        "    Tips:\n",
        "    You basically need to write down two steps and iterate through them:\n",
        "        1) Calculate the cost and the gradient for the current parameters. Use propagate().\n",
        "        2) Update the parameters using gradient descent rule for w and b.\n",
        "    \"\"\"\n",
        "    \n",
        "    costs = []\n",
        "    \n",
        "    for i in range(num_iterations):\n",
        "        \n",
        "        \n",
        "        # Cost and gradient calculation (≈ 1-4 lines of code)\n",
        "        ### START CODE HERE ### \n",
        "        grads, cost = None\n",
        "        ### END CODE HERE ###\n",
        "        \n",
        "        # Retrieve derivatives from grads\n",
        "        dw = grads[\"dw\"]\n",
        "        db = grads[\"db\"]\n",
        "        \n",
        "        # update rule (≈ 2 lines of code)\n",
        "        ### START CODE HERE ###\n",
        "        w = None\n",
        "        b = None\n",
        "        ### END CODE HERE ###\n",
        "        \n",
        "        # Record the costs\n",
        "        if i % 100 == 0:\n",
        "            costs.append(cost)\n",
        "        \n",
        "        # Print the cost every 100 training iterations\n",
        "        if print_cost and i % 100 == 0:\n",
        "            print (\"Cost after iteration %i: %f\" %(i, cost))\n",
        "    \n",
        "    params = {\"w\": w,\n",
        "              \"b\": b}\n",
        "    \n",
        "    grads = {\"dw\": dw,\n",
        "             \"db\": db}\n",
        "    \n",
        "    return params, grads, costs"
      ],
      "execution_count": 0,
      "outputs": []
    },
    {
      "metadata": {
        "id": "LLdRVNglfhHL",
        "colab_type": "code",
        "colab": {}
      },
      "cell_type": "code",
      "source": [
        "params, grads, costs = optimize(w, b, X, Y, num_iterations= 100, learning_rate = 0.009, print_cost = False)\n",
        "\n",
        "print (\"w = \" + str(params[\"w\"]))\n",
        "print (\"b = \" + str(params[\"b\"]))\n",
        "print (\"dw = \" + str(grads[\"dw\"]))\n",
        "print (\"db = \" + str(grads[\"db\"]))"
      ],
      "execution_count": 0,
      "outputs": []
    },
    {
      "metadata": {
        "id": "aEKl53j2fi1K",
        "colab_type": "text"
      },
      "cell_type": "markdown",
      "source": [
        "**Expected Output**:    \n",
        "`w = [[ 0.19033591]\n",
        " [ 0.12259159]]`  \n",
        "`b = 1.92535983008`  \n",
        "`dw = [[ 0.67752042]\n",
        " [ 1.41625495]]`  \n",
        "`db = 0.219194504541` . "
      ]
    },
    {
      "metadata": {
        "id": "yc0f4Bc_f80L",
        "colab_type": "text"
      },
      "cell_type": "markdown",
      "source": [
        "**Exercise:** The previous function will output the learned w and b. We are able to use w and b to predict the labels for a dataset X. Implement the `predict()` function. There are two steps to computing predictions:\n",
        "\n",
        "1. Calculate $\\hat{Y} = A = \\sigma(w^T X + b)$\n",
        "\n",
        "2. Convert the entries of a into 0 (if activation <= 0.5) or 1 (if activation > 0.5), stores the predictions in a vector `Y_prediction`. If you wish, you can use an `if`/`else` statement in a `for` loop (though there is also a way to vectorize this). "
      ]
    },
    {
      "metadata": {
        "id": "U_TpYwHFftmA",
        "colab_type": "code",
        "colab": {}
      },
      "cell_type": "code",
      "source": [
        "def predict(w, b, X):\n",
        "    '''\n",
        "    Predict whether the label is 0 or 1 using learned logistic regression parameters (w, b)\n",
        "    \n",
        "    Arguments:\n",
        "    w -- weights, a numpy array of size (num_px * num_px * 3, 1)\n",
        "    b -- bias, a scalar\n",
        "    X -- data of size (num_px * num_px * 3, number of examples)\n",
        "    \n",
        "    Returns:\n",
        "    Y_prediction -- a numpy array (vector) containing all predictions (0/1) for the examples in X\n",
        "    '''\n",
        "    \n",
        "    m = X.shape[1]\n",
        "    Y_prediction = np.zeros((1,m))\n",
        "    w = w.reshape(X.shape[0], 1)\n",
        "    \n",
        "    # Compute vector \"A\" predicting the probabilities of a cat being present in the picture\n",
        "    ### START CODE HERE ### (≈ 1 line of code)\n",
        "    A = sigmoid(np.dot(w.T, X) + b)\n",
        "    ### END CODE HERE ###\n",
        "\n",
        "    for i in range(A.shape[1]):\n",
        "        \n",
        "        # Convert probabilities A[0,i] to actual predictions p[0,i]\n",
        "        ### START CODE HERE ### (≈ 4 lines of code)\n",
        "        None\n",
        "            \n",
        "        ### END CODE HERE ###\n",
        "    \n",
        "    assert(Y_prediction.shape == (1, m))\n",
        "    \n",
        "    return Y_prediction"
      ],
      "execution_count": 0,
      "outputs": []
    },
    {
      "metadata": {
        "id": "-MxGAz1TgC6C",
        "colab_type": "code",
        "colab": {}
      },
      "cell_type": "code",
      "source": [
        "w = np.array([[0.1124579],[0.23106775]])\n",
        "b = -0.3\n",
        "X = np.array([[1.,-1.1,-3.2],[1.2,2.,0.1]])\n",
        "print (\"predictions = \" + str(predict(w, b, X)))"
      ],
      "execution_count": 0,
      "outputs": []
    },
    {
      "metadata": {
        "id": "IjnYN1_2gHAl",
        "colab_type": "text"
      },
      "cell_type": "markdown",
      "source": [
        "**Expected Output**:  \n",
        "`predictions = [[ 1.  1.  0.]]`"
      ]
    },
    {
      "metadata": {
        "id": "olBDvIBlgT-K",
        "colab_type": "text"
      },
      "cell_type": "markdown",
      "source": [
        "## 4 - Merge All Functions into a Model ##\n",
        "\n",
        "You will now see how the overall model is structured by putting together all the building blocks (functions implemented in the previous parts) together, in the right order.\n",
        "\n",
        "**Exercise:** Implement the model function. Use the following notation:\n",
        "    - Y_prediction_test for your predictions on the test set\n",
        "    - Y_prediction_train for your predictions on the train set\n",
        "    - w, costs, grads for the outputs of optimize()"
      ]
    },
    {
      "metadata": {
        "id": "S1_mqmqpgRZH",
        "colab_type": "code",
        "colab": {}
      },
      "cell_type": "code",
      "source": [
        "def model(X_train, Y_train, X_test, Y_test, num_iterations = 2000, learning_rate = 0.5, print_cost = False):\n",
        "    \"\"\"\n",
        "    Builds the logistic regression model by calling the function you've implemented previously\n",
        "    \n",
        "    Arguments:\n",
        "    X_train -- training set represented by a numpy array of shape (num_px * num_px * 3, m_train)\n",
        "    Y_train -- training labels represented by a numpy array (vector) of shape (1, m_train)\n",
        "    X_test -- test set represented by a numpy array of shape (num_px * num_px * 3, m_test)\n",
        "    Y_test -- test labels represented by a numpy array (vector) of shape (1, m_test)\n",
        "    num_iterations -- hyperparameter representing the number of iterations to optimize the parameters\n",
        "    learning_rate -- hyperparameter representing the learning rate used in the update rule of optimize()\n",
        "    print_cost -- Set to true to print the cost every 100 iterations\n",
        "    \n",
        "    Returns:\n",
        "    d -- dictionary containing information about the model.\n",
        "    \"\"\"\n",
        "    \n",
        "    ### START CODE HERE ###\n",
        "    \n",
        "    # initialize parameters with zeros (≈ 1 line of code)\n",
        "    w, b = None\n",
        "\n",
        "    # Gradient descent (≈ 1 line of code)\n",
        "    # optimize(w, b, X, Y, num_iterations, learning_rate, print_cost = False)\n",
        "    parameters, grads, costs = None\n",
        "    \n",
        "    # Retrieve parameters w and b from dictionary \"parameters\"\n",
        "    w = parameters[\"w\"]\n",
        "    b = parameters[\"b\"]\n",
        "    \n",
        "    # Predict test/train set examples (≈ 2 lines of code)\n",
        "    Y_prediction_test = None\n",
        "    Y_prediction_train = None\n",
        "\n",
        "    ### END CODE HERE ###\n",
        "\n",
        "    # Print train/test Errors\n",
        "    print(\"train accuracy: {} %\".format(100 - np.mean(np.abs(Y_prediction_train - Y_train)) * 100))\n",
        "    print(\"test accuracy: {} %\".format(100 - np.mean(np.abs(Y_prediction_test - Y_test)) * 100))\n",
        "\n",
        "    \n",
        "    d = {\"costs\": costs,\n",
        "         \"Y_prediction_test\": Y_prediction_test, \n",
        "         \"Y_prediction_train\" : Y_prediction_train, \n",
        "         \"w\" : w, \n",
        "         \"b\" : b,\n",
        "         \"learning_rate\" : learning_rate,\n",
        "         \"num_iterations\": num_iterations}\n",
        "    \n",
        "    return d"
      ],
      "execution_count": 0,
      "outputs": []
    },
    {
      "metadata": {
        "id": "LvMQdgOXhGc6",
        "colab_type": "code",
        "colab": {}
      },
      "cell_type": "code",
      "source": [
        "d = model(train_set_x, train_set_y, test_set_x, test_set_y, num_iterations = 2000, learning_rate = 0.005, print_cost = True)"
      ],
      "execution_count": 0,
      "outputs": []
    },
    {
      "metadata": {
        "id": "_BE-2szhhtQG",
        "colab_type": "code",
        "colab": {}
      },
      "cell_type": "code",
      "source": [
        "# Plot learning curve (with costs)\n",
        "costs = np.squeeze(d['costs'])\n",
        "plt.plot(costs)\n",
        "plt.ylabel('cost')\n",
        "plt.xlabel('iterations (per hundreds)')\n",
        "plt.title(\"Learning rate =\" + str(d[\"learning_rate\"]))\n",
        "plt.show()"
      ],
      "execution_count": 0,
      "outputs": []
    },
    {
      "metadata": {
        "id": "45XoKJMohKt3",
        "colab_type": "text"
      },
      "cell_type": "markdown",
      "source": [
        "### 4.1 - Choice of Learning Rate\n"
      ]
    },
    {
      "metadata": {
        "id": "dpXBNrKah3kF",
        "colab_type": "code",
        "colab": {}
      },
      "cell_type": "code",
      "source": [
        "learning_rates = [0.01, 0.001, 0.0001]\n",
        "models = {}\n",
        "for i in learning_rates:\n",
        "    print (\"learning rate is: \" + str(i))\n",
        "    models[str(i)] = model(train_set_x, train_set_y, test_set_x, test_set_y, num_iterations = 1500, learning_rate = i, print_cost = False)\n",
        "    print ('\\n' + \"-------------------------------------------------------\" + '\\n')\n",
        "\n",
        "for i in learning_rates:\n",
        "    plt.plot(np.squeeze(models[str(i)][\"costs\"]), label= str(models[str(i)][\"learning_rate\"]))\n",
        "\n",
        "plt.ylabel('cost')\n",
        "plt.xlabel('iterations (hundreds)')\n",
        "\n",
        "legend = plt.legend(loc='upper center', shadow=True)\n",
        "frame = legend.get_frame()\n",
        "frame.set_facecolor('0.90')\n",
        "plt.show()"
      ],
      "execution_count": 0,
      "outputs": []
    },
    {
      "metadata": {
        "id": "B3bSBDD-iJxA",
        "colab_type": "text"
      },
      "cell_type": "markdown",
      "source": [
        "### 4.2 - Test with your own image"
      ]
    },
    {
      "metadata": {
        "id": "TL3436q3h34s",
        "colab_type": "code",
        "colab": {}
      },
      "cell_type": "code",
      "source": [
        "\n",
        "my_image = \"my_image.jpg\"   # change this to the name of your image file \n",
        "\n",
        "\n",
        "# We preprocess the image to fit your algorithm.\n",
        "fname = my_image\n",
        "image = np.array(ndimage.imread(fname, flatten=False))\n",
        "my_image = scipy.misc.imresize(image, size=(num_px,num_px)).reshape((1, num_px*num_px*3)).T\n",
        "my_predicted_image = predict(d[\"w\"], d[\"b\"], my_image)\n",
        "\n",
        "plt.imshow(image)\n",
        "print(\"y = \" + str(np.squeeze(my_predicted_image)) + \", your algorithm predicts a \\\"\" + classes[int(np.squeeze(my_predicted_image)),].decode(\"utf-8\") +  \"\\\" picture.\")"
      ],
      "execution_count": 0,
      "outputs": []
    }
  ]
}